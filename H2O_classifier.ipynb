{
 "cells": [
  {
   "cell_type": "code",
   "execution_count": 1,
   "metadata": {
    "collapsed": true
   },
   "outputs": [],
   "source": [
    "import h2o\n",
    "import pandas as pd\n",
    "import numpy as np\n",
    "import matplotlib.pyplot as plt\n",
    "from sklearn.feature_extraction.text import CountVectorizer\n",
    "from h2o.estimators.gbm import H2OGradientBoostingEstimator\n",
    "from h2o.estimators.random_forest import H2ORandomForestEstimator\n",
    "from sklearn.metrics import accuracy_score"
   ]
  },
  {
   "cell_type": "code",
   "execution_count": 2,
   "metadata": {},
   "outputs": [
    {
     "name": "stdout",
     "output_type": "stream",
     "text": [
      "Checking whether there is an H2O instance running at http://localhost:54321 ..... not found.\n",
      "Attempting to start a local H2O server...\n",
      "; Java HotSpot(TM) 64-Bit Server VM 18.3 (build 10.0.1+10, mixed mode)\n",
      "  Starting server from C:\\Users\\N1\\Anaconda3\\lib\\site-packages\\h2o\\backend\\bin\\h2o.jar\n",
      "  Ice root: C:\\Users\\N1\\AppData\\Local\\Temp\\tmp32ua168z\n",
      "  JVM stdout: C:\\Users\\N1\\AppData\\Local\\Temp\\tmp32ua168z\\h2o_N1_started_from_python.out\n",
      "  JVM stderr: C:\\Users\\N1\\AppData\\Local\\Temp\\tmp32ua168z\\h2o_N1_started_from_python.err\n",
      "  Server is running at http://127.0.0.1:54321\n",
      "Connecting to H2O server at http://127.0.0.1:54321 ... successful.\n"
     ]
    },
    {
     "data": {
      "text/html": [
       "<div style=\"overflow:auto\"><table style=\"width:50%\"><tr><td>H2O cluster uptime:</td>\n",
       "<td>03 secs</td></tr>\n",
       "<tr><td>H2O cluster timezone:</td>\n",
       "<td>Europe/Helsinki</td></tr>\n",
       "<tr><td>H2O data parsing timezone:</td>\n",
       "<td>UTC</td></tr>\n",
       "<tr><td>H2O cluster version:</td>\n",
       "<td>3.24.0.3</td></tr>\n",
       "<tr><td>H2O cluster version age:</td>\n",
       "<td>4 days </td></tr>\n",
       "<tr><td>H2O cluster name:</td>\n",
       "<td>H2O_from_python_N1_x7rmok</td></tr>\n",
       "<tr><td>H2O cluster total nodes:</td>\n",
       "<td>1</td></tr>\n",
       "<tr><td>H2O cluster free memory:</td>\n",
       "<td>1.971 Gb</td></tr>\n",
       "<tr><td>H2O cluster total cores:</td>\n",
       "<td>0</td></tr>\n",
       "<tr><td>H2O cluster allowed cores:</td>\n",
       "<td>0</td></tr>\n",
       "<tr><td>H2O cluster status:</td>\n",
       "<td>accepting new members, healthy</td></tr>\n",
       "<tr><td>H2O connection url:</td>\n",
       "<td>http://127.0.0.1:54321</td></tr>\n",
       "<tr><td>H2O connection proxy:</td>\n",
       "<td>None</td></tr>\n",
       "<tr><td>H2O internal security:</td>\n",
       "<td>False</td></tr>\n",
       "<tr><td>H2O API Extensions:</td>\n",
       "<td>Amazon S3, Algos, AutoML, Core V3, Core V4</td></tr>\n",
       "<tr><td>Python version:</td>\n",
       "<td>3.6.6 final</td></tr></table></div>"
      ],
      "text/plain": [
       "--------------------------  ------------------------------------------\n",
       "H2O cluster uptime:         03 secs\n",
       "H2O cluster timezone:       Europe/Helsinki\n",
       "H2O data parsing timezone:  UTC\n",
       "H2O cluster version:        3.24.0.3\n",
       "H2O cluster version age:    4 days\n",
       "H2O cluster name:           H2O_from_python_N1_x7rmok\n",
       "H2O cluster total nodes:    1\n",
       "H2O cluster free memory:    1.971 Gb\n",
       "H2O cluster total cores:    0\n",
       "H2O cluster allowed cores:  0\n",
       "H2O cluster status:         accepting new members, healthy\n",
       "H2O connection url:         http://127.0.0.1:54321\n",
       "H2O connection proxy:\n",
       "H2O internal security:      False\n",
       "H2O API Extensions:         Amazon S3, Algos, AutoML, Core V3, Core V4\n",
       "Python version:             3.6.6 final\n",
       "--------------------------  ------------------------------------------"
      ]
     },
     "metadata": {},
     "output_type": "display_data"
    }
   ],
   "source": [
    "h2o.init()"
   ]
  },
  {
   "cell_type": "code",
   "execution_count": 3,
   "metadata": {},
   "outputs": [
    {
     "name": "stdout",
     "output_type": "stream",
     "text": [
      "Parse progress: |█████████████████████████████████████████████████████████| 100%\n"
     ]
    }
   ],
   "source": [
    "data = h2o.import_file(\"data2.csv\")"
   ]
  },
  {
   "cell_type": "code",
   "execution_count": 4,
   "metadata": {},
   "outputs": [
    {
     "data": {
      "text/html": [
       "<table>\n",
       "<thead>\n",
       "<tr><th style=\"text-align: right;\">  isNA(labels)</th><th style=\"text-align: right;\">  nrow</th></tr>\n",
       "</thead>\n",
       "<tbody>\n",
       "<tr><td style=\"text-align: right;\">             0</td><td style=\"text-align: right;\">   916</td></tr>\n",
       "<tr><td style=\"text-align: right;\">             1</td><td style=\"text-align: right;\">    84</td></tr>\n",
       "</tbody>\n",
       "</table>"
      ]
     },
     "metadata": {},
     "output_type": "display_data"
    },
    {
     "data": {
      "text/plain": []
     },
     "execution_count": 4,
     "metadata": {},
     "output_type": "execute_result"
    }
   ],
   "source": [
    "#delete null labels\n",
    "\n",
    "nan_frame = data.isna().group_by(by = ['isNA(labels)']).count().get_frame()\n",
    "nan_frame"
   ]
  },
  {
   "cell_type": "code",
   "execution_count": 5,
   "metadata": {},
   "outputs": [
    {
     "data": {
      "text/html": [
       "<table>\n",
       "<thead>\n",
       "<tr><th>category           </th><th style=\"text-align: right;\">  nrow</th></tr>\n",
       "</thead>\n",
       "<tbody>\n",
       "<tr><td>automotive         </td><td style=\"text-align: right;\">    91</td></tr>\n",
       "<tr><td>beauty             </td><td style=\"text-align: right;\">    91</td></tr>\n",
       "<tr><td>digital_electronics</td><td style=\"text-align: right;\">    88</td></tr>\n",
       "<tr><td>kids               </td><td style=\"text-align: right;\">    91</td></tr>\n",
       "<tr><td>man                </td><td style=\"text-align: right;\">    90</td></tr>\n",
       "<tr><td>military           </td><td style=\"text-align: right;\">    91</td></tr>\n",
       "<tr><td>perfumes           </td><td style=\"text-align: right;\">    94</td></tr>\n",
       "<tr><td>shoes              </td><td style=\"text-align: right;\">    96</td></tr>\n",
       "<tr><td>sport              </td><td style=\"text-align: right;\">    93</td></tr>\n",
       "<tr><td>woman              </td><td style=\"text-align: right;\">    91</td></tr>\n",
       "</tbody>\n",
       "</table>"
      ]
     },
     "metadata": {},
     "output_type": "display_data"
    },
    {
     "data": {
      "text/plain": []
     },
     "execution_count": 5,
     "metadata": {},
     "output_type": "execute_result"
    }
   ],
   "source": [
    "data = data.na_omit()\n",
    "data.group_by(by = \"category\").count().get_frame()"
   ]
  },
  {
   "cell_type": "code",
   "execution_count": 6,
   "metadata": {},
   "outputs": [
    {
     "data": {
      "text/html": [
       "<table>\n",
       "<thead>\n",
       "<tr><th style=\"text-align: right;\">  C1</th><th>path                                                                                                                 </th><th>labels                                                                                                                        </th><th>category  </th></tr>\n",
       "</thead>\n",
       "<tbody>\n",
       "<tr><td style=\"text-align: right;\">   0</td><td>https://www.synopsys.com/content/dam/synopsys/verification/Veification_SaberAutomotive_spotlight.jpg.imgw.560.336.jpg</td><td>Land vehicle Vehicle Car Sports car Automotive design Coup? Performance car Supercar Luxury vehicle Aston martin dbs v12      </td><td>automotive</td></tr>\n",
       "<tr><td style=\"text-align: right;\">   1</td><td>https://cdn.rohde-schwarz.com/pws/solution/automotive_1/webinarcenter/automotive_webinars_teaser.jpg                 </td><td>Land vehicle Automotive design Mid-size car Vehicle Car Personal luxury car Concept car Full-size car Executive car Family car</td><td>automotive</td></tr>\n",
       "<tr><td style=\"text-align: right;\">   2</td><td>https://blokt.com/wp-content/uploads/2018/08/shutterstock_747021289.jpg                                              </td><td>Land vehicle Vehicle Car Personal luxury car Luxury vehicle Automotive design Performance car Bmw Sports car Rim              </td><td>automotive</td></tr>\n",
       "</tbody>\n",
       "</table>"
      ]
     },
     "metadata": {},
     "output_type": "display_data"
    },
    {
     "data": {
      "text/plain": []
     },
     "execution_count": 6,
     "metadata": {},
     "output_type": "execute_result"
    }
   ],
   "source": [
    "data.head(3)"
   ]
  },
  {
   "cell_type": "code",
   "execution_count": 7,
   "metadata": {},
   "outputs": [
    {
     "name": "stdout",
     "output_type": "stream",
     "text": [
      "Parse progress: |█████████████████████████████████████████████████████████| 100%\n"
     ]
    }
   ],
   "source": [
    "def preprocessor(line):\n",
    "    return line.lower()\n",
    "\n",
    "vectorizer = CountVectorizer(preprocessor = preprocessor, stop_words = \"english\")\n",
    "vectorized = vectorizer.fit_transform(data.as_data_frame()[\"labels\"]).todense()\n",
    "\n",
    "data_labels = h2o.H2OFrame.from_python(pd.DataFrame(data=vectorized, columns=sorted(vectorizer.vocabulary_)))"
   ]
  },
  {
   "cell_type": "code",
   "execution_count": 8,
   "metadata": {
    "collapsed": true
   },
   "outputs": [],
   "source": [
    "data = data.drop([\"labels\"])\n",
    "data = data_labels.cbind(data)\n",
    "paths = data[\"path\"]\n",
    "data = data.drop([\"path\", \"C1\"])"
   ]
  },
  {
   "cell_type": "code",
   "execution_count": 9,
   "metadata": {},
   "outputs": [
    {
     "data": {
      "text/plain": [
       "(916, 862)"
      ]
     },
     "execution_count": 9,
     "metadata": {},
     "output_type": "execute_result"
    }
   ],
   "source": [
    "data.shape"
   ]
  },
  {
   "cell_type": "code",
   "execution_count": 10,
   "metadata": {},
   "outputs": [
    {
     "data": {
      "text/html": [
       "<table>\n",
       "<thead>\n",
       "<tr><th style=\"text-align: right;\">  3d</th><th style=\"text-align: right;\">  47</th><th style=\"text-align: right;\">  abdomen</th><th style=\"text-align: right;\">  accessory</th><th style=\"text-align: right;\">  acrobatic</th><th style=\"text-align: right;\">  action</th><th style=\"text-align: right;\">  active</th><th style=\"text-align: right;\">  adaptation</th><th style=\"text-align: right;\">  adventure</th><th style=\"text-align: right;\">  advertising</th><th style=\"text-align: right;\">  aerospace</th><th style=\"text-align: right;\">  afro</th><th style=\"text-align: right;\">  aftershave</th><th style=\"text-align: right;\">  air</th><th style=\"text-align: right;\">  aircraft</th><th style=\"text-align: right;\">  airman</th><th style=\"text-align: right;\">  airplane</th><th style=\"text-align: right;\">  album</th><th style=\"text-align: right;\">  alcoholic</th><th style=\"text-align: right;\">  alloy</th><th style=\"text-align: right;\">  alpine</th><th style=\"text-align: right;\">  amber</th><th style=\"text-align: right;\">  american</th><th style=\"text-align: right;\">  amusement</th><th style=\"text-align: right;\">  animal</th><th style=\"text-align: right;\">  animated</th><th style=\"text-align: right;\">  animation</th><th style=\"text-align: right;\">  ankle</th><th style=\"text-align: right;\">  appliance</th><th style=\"text-align: right;\">  aqua</th><th style=\"text-align: right;\">  archery</th><th style=\"text-align: right;\">  architecture</th><th style=\"text-align: right;\">  area</th><th style=\"text-align: right;\">  arena</th><th style=\"text-align: right;\">  arm</th><th style=\"text-align: right;\">  army</th><th style=\"text-align: right;\">  arrow</th><th style=\"text-align: right;\">  art</th><th style=\"text-align: right;\">  artificial</th><th style=\"text-align: right;\">  artist</th><th style=\"text-align: right;\">  arts</th><th style=\"text-align: right;\">  artwork</th><th style=\"text-align: right;\">  asphalt</th><th style=\"text-align: right;\">  assembly</th><th style=\"text-align: right;\">  aston</th><th style=\"text-align: right;\">  athlete</th><th style=\"text-align: right;\">  athletic</th><th style=\"text-align: right;\">  athletics</th><th style=\"text-align: right;\">  atlas</th><th style=\"text-align: right;\">  atmosphere</th><th style=\"text-align: right;\">  atmospheric</th><th style=\"text-align: right;\">  audi</th><th style=\"text-align: right;\">  audience</th><th style=\"text-align: right;\">  audio</th><th style=\"text-align: right;\">  auto</th><th style=\"text-align: right;\">  automobile</th><th style=\"text-align: right;\">  automotive</th><th style=\"text-align: right;\">  autumn</th><th style=\"text-align: right;\">  aviation</th><th style=\"text-align: right;\">  axle</th><th style=\"text-align: right;\">  azure</th><th style=\"text-align: right;\">  baby</th><th style=\"text-align: right;\">  backlighting</th><th style=\"text-align: right;\">  backyard</th><th style=\"text-align: right;\">  badminton</th><th style=\"text-align: right;\">  ball</th><th style=\"text-align: right;\">  ballet</th><th style=\"text-align: right;\">  balloon</th><th style=\"text-align: right;\">  bandy</th><th style=\"text-align: right;\">  banner</th><th style=\"text-align: right;\">  barbell</th><th style=\"text-align: right;\">  barechested</th><th style=\"text-align: right;\">  barware</th><th style=\"text-align: right;\">  basic</th><th style=\"text-align: right;\">  basketball</th><th style=\"text-align: right;\">  bat</th><th style=\"text-align: right;\">  beaker</th><th style=\"text-align: right;\">  beanie</th><th style=\"text-align: right;\">  beard</th><th style=\"text-align: right;\">  bearing</th><th style=\"text-align: right;\">  beater</th><th style=\"text-align: right;\">  beauty</th><th style=\"text-align: right;\">  beige</th><th style=\"text-align: right;\">  beverage</th><th style=\"text-align: right;\">  biathlon</th><th style=\"text-align: right;\">  bicycle</th><th style=\"text-align: right;\">  bike</th><th style=\"text-align: right;\">  biking</th><th style=\"text-align: right;\">  binding</th><th style=\"text-align: right;\">  birthday</th><th style=\"text-align: right;\">  black</th><th style=\"text-align: right;\">  blackboard</th><th style=\"text-align: right;\">  blazer</th><th style=\"text-align: right;\">  blended</th><th style=\"text-align: right;\">  blond</th><th style=\"text-align: right;\">  blue</th><th style=\"text-align: right;\">  bmw</th><th style=\"text-align: right;\">  bmx</th><th style=\"text-align: right;\">  boardsport</th><th style=\"text-align: right;\">  boat</th><th style=\"text-align: right;\">  boeing</th><th style=\"text-align: right;\">  book</th><th style=\"text-align: right;\">  boot</th><th style=\"text-align: right;\">  botany</th><th style=\"text-align: right;\">  bottle</th><th style=\"text-align: right;\">  bow</th><th style=\"text-align: right;\">  bowl</th><th style=\"text-align: right;\">  box</th><th style=\"text-align: right;\">  brand</th><th style=\"text-align: right;\">  brass</th><th style=\"text-align: right;\">  breaststroke</th><th style=\"text-align: right;\">  breed</th><th style=\"text-align: right;\">  bridal</th><th style=\"text-align: right;\">  bridle</th><th style=\"text-align: right;\">  brown</th><th style=\"text-align: right;\">  brushing</th><th style=\"text-align: right;\">  building</th><th style=\"text-align: right;\">  bumper</th><th style=\"text-align: right;\">  business</th><th style=\"text-align: right;\">  businessperson</th><th style=\"text-align: right;\">  butterfly</th><th style=\"text-align: right;\">  button</th><th style=\"text-align: right;\">  cable</th><th style=\"text-align: right;\">  cables</th><th style=\"text-align: right;\">  calendar</th><th style=\"text-align: right;\">  calf</th><th style=\"text-align: right;\">  calligraphy</th><th style=\"text-align: right;\">  camera</th><th style=\"text-align: right;\">  camouflage</th><th style=\"text-align: right;\">  canadian</th><th style=\"text-align: right;\">  canidae</th><th style=\"text-align: right;\">  car</th><th style=\"text-align: right;\">  care</th><th style=\"text-align: right;\">  carmine</th><th style=\"text-align: right;\">  carnivore</th><th style=\"text-align: right;\">  cartoon</th><th style=\"text-align: right;\">  ceiling</th><th style=\"text-align: right;\">  celebrating</th><th style=\"text-align: right;\">  center</th><th style=\"text-align: right;\">  cg</th><th style=\"text-align: right;\">  ch</th><th style=\"text-align: right;\">  champions</th><th style=\"text-align: right;\">  championship</th><th style=\"text-align: right;\">  character</th><th style=\"text-align: right;\">  cheek</th><th style=\"text-align: right;\">  cheering</th><th style=\"text-align: right;\">  chest</th><th style=\"text-align: right;\">  child</th><th style=\"text-align: right;\">  chin</th><th style=\"text-align: right;\">  chinook</th><th style=\"text-align: right;\">  cinematographer</th><th style=\"text-align: right;\">  circle</th><th style=\"text-align: right;\">  circuit</th><th style=\"text-align: right;\">  citro</th><th style=\"text-align: right;\">  citrus</th><th style=\"text-align: right;\">  city</th><th style=\"text-align: right;\">  cityscape</th><th style=\"text-align: right;\">  clap</th><th style=\"text-align: right;\">  class</th><th style=\"text-align: right;\">  classic</th><th style=\"text-align: right;\">  cleat</th><th style=\"text-align: right;\">  climbing</th><th style=\"text-align: right;\">  clip</th><th style=\"text-align: right;\">  clock</th><th style=\"text-align: right;\">  close</th><th style=\"text-align: right;\">  clothing</th><th style=\"text-align: right;\">  cloud</th><th style=\"text-align: right;\">  clutch</th><th style=\"text-align: right;\">  coach</th><th style=\"text-align: right;\">  cobalt</th><th style=\"text-align: right;\">  cocktail</th><th style=\"text-align: right;\">  collar</th><th style=\"text-align: right;\">  college</th><th style=\"text-align: right;\">  collision</th><th style=\"text-align: right;\">  colorfulness</th><th style=\"text-align: right;\">  coloring</th><th style=\"text-align: right;\">  combat</th><th style=\"text-align: right;\">  commercial</th><th style=\"text-align: right;\">  commissioned</th><th style=\"text-align: right;\">  communication</th><th style=\"text-align: right;\">  communications</th><th style=\"text-align: right;\">  community</th><th style=\"text-align: right;\">  compact</th><th style=\"text-align: right;\">  companion</th><th style=\"text-align: right;\">  competition</th><th style=\"text-align: right;\">  component</th><th style=\"text-align: right;\">  compositing</th><th style=\"text-align: right;\">  computer</th><th style=\"text-align: right;\">  concept</th><th style=\"text-align: right;\">  confetti</th><th style=\"text-align: right;\">  congestion</th><th style=\"text-align: right;\">  console</th><th style=\"text-align: right;\">  convertible</th><th style=\"text-align: right;\">  cook</th><th style=\"text-align: right;\">  cool</th><th style=\"text-align: right;\">  cosmetics</th><th style=\"text-align: right;\">  costume</th><th style=\"text-align: right;\">  cotton</th><th style=\"text-align: right;\">  country</th><th style=\"text-align: right;\">  coup</th></tr>\n",
       "</thead>\n",
       "<tbody>\n",
       "<tr><td style=\"text-align: right;\">   0</td><td style=\"text-align: right;\">   0</td><td style=\"text-align: right;\">        0</td><td style=\"text-align: right;\">          0</td><td style=\"text-align: right;\">          0</td><td style=\"text-align: right;\">       0</td><td style=\"text-align: right;\">       0</td><td style=\"text-align: right;\">           0</td><td style=\"text-align: right;\">          0</td><td style=\"text-align: right;\">            0</td><td style=\"text-align: right;\">          0</td><td style=\"text-align: right;\">     0</td><td style=\"text-align: right;\">           0</td><td style=\"text-align: right;\">    0</td><td style=\"text-align: right;\">         0</td><td style=\"text-align: right;\">       0</td><td style=\"text-align: right;\">         0</td><td style=\"text-align: right;\">      0</td><td style=\"text-align: right;\">          0</td><td style=\"text-align: right;\">      0</td><td style=\"text-align: right;\">       0</td><td style=\"text-align: right;\">      0</td><td style=\"text-align: right;\">         0</td><td style=\"text-align: right;\">          0</td><td style=\"text-align: right;\">       0</td><td style=\"text-align: right;\">         0</td><td style=\"text-align: right;\">          0</td><td style=\"text-align: right;\">      0</td><td style=\"text-align: right;\">          0</td><td style=\"text-align: right;\">     0</td><td style=\"text-align: right;\">        0</td><td style=\"text-align: right;\">             0</td><td style=\"text-align: right;\">     0</td><td style=\"text-align: right;\">      0</td><td style=\"text-align: right;\">    0</td><td style=\"text-align: right;\">     0</td><td style=\"text-align: right;\">      0</td><td style=\"text-align: right;\">    0</td><td style=\"text-align: right;\">           0</td><td style=\"text-align: right;\">       0</td><td style=\"text-align: right;\">     0</td><td style=\"text-align: right;\">        0</td><td style=\"text-align: right;\">        0</td><td style=\"text-align: right;\">         0</td><td style=\"text-align: right;\">      1</td><td style=\"text-align: right;\">        0</td><td style=\"text-align: right;\">         0</td><td style=\"text-align: right;\">          0</td><td style=\"text-align: right;\">      0</td><td style=\"text-align: right;\">           0</td><td style=\"text-align: right;\">            0</td><td style=\"text-align: right;\">     0</td><td style=\"text-align: right;\">         0</td><td style=\"text-align: right;\">      0</td><td style=\"text-align: right;\">     0</td><td style=\"text-align: right;\">           0</td><td style=\"text-align: right;\">           1</td><td style=\"text-align: right;\">       0</td><td style=\"text-align: right;\">         0</td><td style=\"text-align: right;\">     0</td><td style=\"text-align: right;\">      0</td><td style=\"text-align: right;\">     0</td><td style=\"text-align: right;\">             0</td><td style=\"text-align: right;\">         0</td><td style=\"text-align: right;\">          0</td><td style=\"text-align: right;\">     0</td><td style=\"text-align: right;\">       0</td><td style=\"text-align: right;\">        0</td><td style=\"text-align: right;\">      0</td><td style=\"text-align: right;\">       0</td><td style=\"text-align: right;\">        0</td><td style=\"text-align: right;\">            0</td><td style=\"text-align: right;\">        0</td><td style=\"text-align: right;\">      0</td><td style=\"text-align: right;\">           0</td><td style=\"text-align: right;\">    0</td><td style=\"text-align: right;\">       0</td><td style=\"text-align: right;\">       0</td><td style=\"text-align: right;\">      0</td><td style=\"text-align: right;\">        0</td><td style=\"text-align: right;\">       0</td><td style=\"text-align: right;\">       0</td><td style=\"text-align: right;\">      0</td><td style=\"text-align: right;\">         0</td><td style=\"text-align: right;\">         0</td><td style=\"text-align: right;\">        0</td><td style=\"text-align: right;\">     0</td><td style=\"text-align: right;\">       0</td><td style=\"text-align: right;\">        0</td><td style=\"text-align: right;\">         0</td><td style=\"text-align: right;\">      0</td><td style=\"text-align: right;\">           0</td><td style=\"text-align: right;\">       0</td><td style=\"text-align: right;\">        0</td><td style=\"text-align: right;\">      0</td><td style=\"text-align: right;\">     0</td><td style=\"text-align: right;\">    0</td><td style=\"text-align: right;\">    0</td><td style=\"text-align: right;\">           0</td><td style=\"text-align: right;\">     0</td><td style=\"text-align: right;\">       0</td><td style=\"text-align: right;\">     0</td><td style=\"text-align: right;\">     0</td><td style=\"text-align: right;\">       0</td><td style=\"text-align: right;\">       0</td><td style=\"text-align: right;\">    0</td><td style=\"text-align: right;\">     0</td><td style=\"text-align: right;\">    0</td><td style=\"text-align: right;\">      0</td><td style=\"text-align: right;\">      0</td><td style=\"text-align: right;\">             0</td><td style=\"text-align: right;\">      0</td><td style=\"text-align: right;\">       0</td><td style=\"text-align: right;\">       0</td><td style=\"text-align: right;\">      0</td><td style=\"text-align: right;\">         0</td><td style=\"text-align: right;\">         0</td><td style=\"text-align: right;\">       0</td><td style=\"text-align: right;\">         0</td><td style=\"text-align: right;\">               0</td><td style=\"text-align: right;\">          0</td><td style=\"text-align: right;\">       0</td><td style=\"text-align: right;\">      0</td><td style=\"text-align: right;\">       0</td><td style=\"text-align: right;\">         0</td><td style=\"text-align: right;\">     0</td><td style=\"text-align: right;\">            0</td><td style=\"text-align: right;\">       0</td><td style=\"text-align: right;\">           0</td><td style=\"text-align: right;\">         0</td><td style=\"text-align: right;\">        0</td><td style=\"text-align: right;\">    3</td><td style=\"text-align: right;\">     0</td><td style=\"text-align: right;\">        0</td><td style=\"text-align: right;\">          0</td><td style=\"text-align: right;\">        0</td><td style=\"text-align: right;\">        0</td><td style=\"text-align: right;\">            0</td><td style=\"text-align: right;\">       0</td><td style=\"text-align: right;\">   0</td><td style=\"text-align: right;\">   0</td><td style=\"text-align: right;\">          0</td><td style=\"text-align: right;\">             0</td><td style=\"text-align: right;\">          0</td><td style=\"text-align: right;\">      0</td><td style=\"text-align: right;\">         0</td><td style=\"text-align: right;\">      0</td><td style=\"text-align: right;\">      0</td><td style=\"text-align: right;\">     0</td><td style=\"text-align: right;\">        0</td><td style=\"text-align: right;\">                0</td><td style=\"text-align: right;\">       0</td><td style=\"text-align: right;\">        0</td><td style=\"text-align: right;\">      0</td><td style=\"text-align: right;\">       0</td><td style=\"text-align: right;\">     0</td><td style=\"text-align: right;\">          0</td><td style=\"text-align: right;\">     0</td><td style=\"text-align: right;\">      0</td><td style=\"text-align: right;\">        0</td><td style=\"text-align: right;\">      0</td><td style=\"text-align: right;\">         0</td><td style=\"text-align: right;\">     0</td><td style=\"text-align: right;\">      0</td><td style=\"text-align: right;\">      0</td><td style=\"text-align: right;\">         0</td><td style=\"text-align: right;\">      0</td><td style=\"text-align: right;\">       0</td><td style=\"text-align: right;\">      0</td><td style=\"text-align: right;\">       0</td><td style=\"text-align: right;\">         0</td><td style=\"text-align: right;\">       0</td><td style=\"text-align: right;\">        0</td><td style=\"text-align: right;\">          0</td><td style=\"text-align: right;\">             0</td><td style=\"text-align: right;\">         0</td><td style=\"text-align: right;\">       0</td><td style=\"text-align: right;\">           0</td><td style=\"text-align: right;\">             0</td><td style=\"text-align: right;\">              0</td><td style=\"text-align: right;\">               0</td><td style=\"text-align: right;\">          0</td><td style=\"text-align: right;\">        0</td><td style=\"text-align: right;\">          0</td><td style=\"text-align: right;\">            0</td><td style=\"text-align: right;\">          0</td><td style=\"text-align: right;\">            0</td><td style=\"text-align: right;\">         0</td><td style=\"text-align: right;\">        0</td><td style=\"text-align: right;\">         0</td><td style=\"text-align: right;\">           0</td><td style=\"text-align: right;\">        0</td><td style=\"text-align: right;\">            0</td><td style=\"text-align: right;\">     0</td><td style=\"text-align: right;\">     0</td><td style=\"text-align: right;\">          0</td><td style=\"text-align: right;\">        0</td><td style=\"text-align: right;\">       0</td><td style=\"text-align: right;\">        0</td><td style=\"text-align: right;\">     1</td></tr>\n",
       "<tr><td style=\"text-align: right;\">   0</td><td style=\"text-align: right;\">   0</td><td style=\"text-align: right;\">        0</td><td style=\"text-align: right;\">          0</td><td style=\"text-align: right;\">          0</td><td style=\"text-align: right;\">       0</td><td style=\"text-align: right;\">       0</td><td style=\"text-align: right;\">           0</td><td style=\"text-align: right;\">          0</td><td style=\"text-align: right;\">            0</td><td style=\"text-align: right;\">          0</td><td style=\"text-align: right;\">     0</td><td style=\"text-align: right;\">           0</td><td style=\"text-align: right;\">    0</td><td style=\"text-align: right;\">         0</td><td style=\"text-align: right;\">       0</td><td style=\"text-align: right;\">         0</td><td style=\"text-align: right;\">      0</td><td style=\"text-align: right;\">          0</td><td style=\"text-align: right;\">      0</td><td style=\"text-align: right;\">       0</td><td style=\"text-align: right;\">      0</td><td style=\"text-align: right;\">         0</td><td style=\"text-align: right;\">          0</td><td style=\"text-align: right;\">       0</td><td style=\"text-align: right;\">         0</td><td style=\"text-align: right;\">          0</td><td style=\"text-align: right;\">      0</td><td style=\"text-align: right;\">          0</td><td style=\"text-align: right;\">     0</td><td style=\"text-align: right;\">        0</td><td style=\"text-align: right;\">             0</td><td style=\"text-align: right;\">     0</td><td style=\"text-align: right;\">      0</td><td style=\"text-align: right;\">    0</td><td style=\"text-align: right;\">     0</td><td style=\"text-align: right;\">      0</td><td style=\"text-align: right;\">    0</td><td style=\"text-align: right;\">           0</td><td style=\"text-align: right;\">       0</td><td style=\"text-align: right;\">     0</td><td style=\"text-align: right;\">        0</td><td style=\"text-align: right;\">        0</td><td style=\"text-align: right;\">         0</td><td style=\"text-align: right;\">      0</td><td style=\"text-align: right;\">        0</td><td style=\"text-align: right;\">         0</td><td style=\"text-align: right;\">          0</td><td style=\"text-align: right;\">      0</td><td style=\"text-align: right;\">           0</td><td style=\"text-align: right;\">            0</td><td style=\"text-align: right;\">     0</td><td style=\"text-align: right;\">         0</td><td style=\"text-align: right;\">      0</td><td style=\"text-align: right;\">     0</td><td style=\"text-align: right;\">           0</td><td style=\"text-align: right;\">           1</td><td style=\"text-align: right;\">       0</td><td style=\"text-align: right;\">         0</td><td style=\"text-align: right;\">     0</td><td style=\"text-align: right;\">      0</td><td style=\"text-align: right;\">     0</td><td style=\"text-align: right;\">             0</td><td style=\"text-align: right;\">         0</td><td style=\"text-align: right;\">          0</td><td style=\"text-align: right;\">     0</td><td style=\"text-align: right;\">       0</td><td style=\"text-align: right;\">        0</td><td style=\"text-align: right;\">      0</td><td style=\"text-align: right;\">       0</td><td style=\"text-align: right;\">        0</td><td style=\"text-align: right;\">            0</td><td style=\"text-align: right;\">        0</td><td style=\"text-align: right;\">      0</td><td style=\"text-align: right;\">           0</td><td style=\"text-align: right;\">    0</td><td style=\"text-align: right;\">       0</td><td style=\"text-align: right;\">       0</td><td style=\"text-align: right;\">      0</td><td style=\"text-align: right;\">        0</td><td style=\"text-align: right;\">       0</td><td style=\"text-align: right;\">       0</td><td style=\"text-align: right;\">      0</td><td style=\"text-align: right;\">         0</td><td style=\"text-align: right;\">         0</td><td style=\"text-align: right;\">        0</td><td style=\"text-align: right;\">     0</td><td style=\"text-align: right;\">       0</td><td style=\"text-align: right;\">        0</td><td style=\"text-align: right;\">         0</td><td style=\"text-align: right;\">      0</td><td style=\"text-align: right;\">           0</td><td style=\"text-align: right;\">       0</td><td style=\"text-align: right;\">        0</td><td style=\"text-align: right;\">      0</td><td style=\"text-align: right;\">     0</td><td style=\"text-align: right;\">    0</td><td style=\"text-align: right;\">    0</td><td style=\"text-align: right;\">           0</td><td style=\"text-align: right;\">     0</td><td style=\"text-align: right;\">       0</td><td style=\"text-align: right;\">     0</td><td style=\"text-align: right;\">     0</td><td style=\"text-align: right;\">       0</td><td style=\"text-align: right;\">       0</td><td style=\"text-align: right;\">    0</td><td style=\"text-align: right;\">     0</td><td style=\"text-align: right;\">    0</td><td style=\"text-align: right;\">      0</td><td style=\"text-align: right;\">      0</td><td style=\"text-align: right;\">             0</td><td style=\"text-align: right;\">      0</td><td style=\"text-align: right;\">       0</td><td style=\"text-align: right;\">       0</td><td style=\"text-align: right;\">      0</td><td style=\"text-align: right;\">         0</td><td style=\"text-align: right;\">         0</td><td style=\"text-align: right;\">       0</td><td style=\"text-align: right;\">         0</td><td style=\"text-align: right;\">               0</td><td style=\"text-align: right;\">          0</td><td style=\"text-align: right;\">       0</td><td style=\"text-align: right;\">      0</td><td style=\"text-align: right;\">       0</td><td style=\"text-align: right;\">         0</td><td style=\"text-align: right;\">     0</td><td style=\"text-align: right;\">            0</td><td style=\"text-align: right;\">       0</td><td style=\"text-align: right;\">           0</td><td style=\"text-align: right;\">         0</td><td style=\"text-align: right;\">        0</td><td style=\"text-align: right;\">    7</td><td style=\"text-align: right;\">     0</td><td style=\"text-align: right;\">        0</td><td style=\"text-align: right;\">          0</td><td style=\"text-align: right;\">        0</td><td style=\"text-align: right;\">        0</td><td style=\"text-align: right;\">            0</td><td style=\"text-align: right;\">       0</td><td style=\"text-align: right;\">   0</td><td style=\"text-align: right;\">   0</td><td style=\"text-align: right;\">          0</td><td style=\"text-align: right;\">             0</td><td style=\"text-align: right;\">          0</td><td style=\"text-align: right;\">      0</td><td style=\"text-align: right;\">         0</td><td style=\"text-align: right;\">      0</td><td style=\"text-align: right;\">      0</td><td style=\"text-align: right;\">     0</td><td style=\"text-align: right;\">        0</td><td style=\"text-align: right;\">                0</td><td style=\"text-align: right;\">       0</td><td style=\"text-align: right;\">        0</td><td style=\"text-align: right;\">      0</td><td style=\"text-align: right;\">       0</td><td style=\"text-align: right;\">     0</td><td style=\"text-align: right;\">          0</td><td style=\"text-align: right;\">     0</td><td style=\"text-align: right;\">      0</td><td style=\"text-align: right;\">        0</td><td style=\"text-align: right;\">      0</td><td style=\"text-align: right;\">         0</td><td style=\"text-align: right;\">     0</td><td style=\"text-align: right;\">      0</td><td style=\"text-align: right;\">      0</td><td style=\"text-align: right;\">         0</td><td style=\"text-align: right;\">      0</td><td style=\"text-align: right;\">       0</td><td style=\"text-align: right;\">      0</td><td style=\"text-align: right;\">       0</td><td style=\"text-align: right;\">         0</td><td style=\"text-align: right;\">       0</td><td style=\"text-align: right;\">        0</td><td style=\"text-align: right;\">          0</td><td style=\"text-align: right;\">             0</td><td style=\"text-align: right;\">         0</td><td style=\"text-align: right;\">       0</td><td style=\"text-align: right;\">           0</td><td style=\"text-align: right;\">             0</td><td style=\"text-align: right;\">              0</td><td style=\"text-align: right;\">               0</td><td style=\"text-align: right;\">          0</td><td style=\"text-align: right;\">        0</td><td style=\"text-align: right;\">          0</td><td style=\"text-align: right;\">            0</td><td style=\"text-align: right;\">          0</td><td style=\"text-align: right;\">            0</td><td style=\"text-align: right;\">         0</td><td style=\"text-align: right;\">        1</td><td style=\"text-align: right;\">         0</td><td style=\"text-align: right;\">           0</td><td style=\"text-align: right;\">        0</td><td style=\"text-align: right;\">            0</td><td style=\"text-align: right;\">     0</td><td style=\"text-align: right;\">     0</td><td style=\"text-align: right;\">          0</td><td style=\"text-align: right;\">        0</td><td style=\"text-align: right;\">       0</td><td style=\"text-align: right;\">        0</td><td style=\"text-align: right;\">     0</td></tr>\n",
       "<tr><td style=\"text-align: right;\">   0</td><td style=\"text-align: right;\">   0</td><td style=\"text-align: right;\">        0</td><td style=\"text-align: right;\">          0</td><td style=\"text-align: right;\">          0</td><td style=\"text-align: right;\">       0</td><td style=\"text-align: right;\">       0</td><td style=\"text-align: right;\">           0</td><td style=\"text-align: right;\">          0</td><td style=\"text-align: right;\">            0</td><td style=\"text-align: right;\">          0</td><td style=\"text-align: right;\">     0</td><td style=\"text-align: right;\">           0</td><td style=\"text-align: right;\">    0</td><td style=\"text-align: right;\">         0</td><td style=\"text-align: right;\">       0</td><td style=\"text-align: right;\">         0</td><td style=\"text-align: right;\">      0</td><td style=\"text-align: right;\">          0</td><td style=\"text-align: right;\">      0</td><td style=\"text-align: right;\">       0</td><td style=\"text-align: right;\">      0</td><td style=\"text-align: right;\">         0</td><td style=\"text-align: right;\">          0</td><td style=\"text-align: right;\">       0</td><td style=\"text-align: right;\">         0</td><td style=\"text-align: right;\">          0</td><td style=\"text-align: right;\">      0</td><td style=\"text-align: right;\">          0</td><td style=\"text-align: right;\">     0</td><td style=\"text-align: right;\">        0</td><td style=\"text-align: right;\">             0</td><td style=\"text-align: right;\">     0</td><td style=\"text-align: right;\">      0</td><td style=\"text-align: right;\">    0</td><td style=\"text-align: right;\">     0</td><td style=\"text-align: right;\">      0</td><td style=\"text-align: right;\">    0</td><td style=\"text-align: right;\">           0</td><td style=\"text-align: right;\">       0</td><td style=\"text-align: right;\">     0</td><td style=\"text-align: right;\">        0</td><td style=\"text-align: right;\">        0</td><td style=\"text-align: right;\">         0</td><td style=\"text-align: right;\">      0</td><td style=\"text-align: right;\">        0</td><td style=\"text-align: right;\">         0</td><td style=\"text-align: right;\">          0</td><td style=\"text-align: right;\">      0</td><td style=\"text-align: right;\">           0</td><td style=\"text-align: right;\">            0</td><td style=\"text-align: right;\">     0</td><td style=\"text-align: right;\">         0</td><td style=\"text-align: right;\">      0</td><td style=\"text-align: right;\">     0</td><td style=\"text-align: right;\">           0</td><td style=\"text-align: right;\">           1</td><td style=\"text-align: right;\">       0</td><td style=\"text-align: right;\">         0</td><td style=\"text-align: right;\">     0</td><td style=\"text-align: right;\">      0</td><td style=\"text-align: right;\">     0</td><td style=\"text-align: right;\">             0</td><td style=\"text-align: right;\">         0</td><td style=\"text-align: right;\">          0</td><td style=\"text-align: right;\">     0</td><td style=\"text-align: right;\">       0</td><td style=\"text-align: right;\">        0</td><td style=\"text-align: right;\">      0</td><td style=\"text-align: right;\">       0</td><td style=\"text-align: right;\">        0</td><td style=\"text-align: right;\">            0</td><td style=\"text-align: right;\">        0</td><td style=\"text-align: right;\">      0</td><td style=\"text-align: right;\">           0</td><td style=\"text-align: right;\">    0</td><td style=\"text-align: right;\">       0</td><td style=\"text-align: right;\">       0</td><td style=\"text-align: right;\">      0</td><td style=\"text-align: right;\">        0</td><td style=\"text-align: right;\">       0</td><td style=\"text-align: right;\">       0</td><td style=\"text-align: right;\">      0</td><td style=\"text-align: right;\">         0</td><td style=\"text-align: right;\">         0</td><td style=\"text-align: right;\">        0</td><td style=\"text-align: right;\">     0</td><td style=\"text-align: right;\">       0</td><td style=\"text-align: right;\">        0</td><td style=\"text-align: right;\">         0</td><td style=\"text-align: right;\">      0</td><td style=\"text-align: right;\">           0</td><td style=\"text-align: right;\">       0</td><td style=\"text-align: right;\">        0</td><td style=\"text-align: right;\">      0</td><td style=\"text-align: right;\">     0</td><td style=\"text-align: right;\">    1</td><td style=\"text-align: right;\">    0</td><td style=\"text-align: right;\">           0</td><td style=\"text-align: right;\">     0</td><td style=\"text-align: right;\">       0</td><td style=\"text-align: right;\">     0</td><td style=\"text-align: right;\">     0</td><td style=\"text-align: right;\">       0</td><td style=\"text-align: right;\">       0</td><td style=\"text-align: right;\">    0</td><td style=\"text-align: right;\">     0</td><td style=\"text-align: right;\">    0</td><td style=\"text-align: right;\">      0</td><td style=\"text-align: right;\">      0</td><td style=\"text-align: right;\">             0</td><td style=\"text-align: right;\">      0</td><td style=\"text-align: right;\">       0</td><td style=\"text-align: right;\">       0</td><td style=\"text-align: right;\">      0</td><td style=\"text-align: right;\">         0</td><td style=\"text-align: right;\">         0</td><td style=\"text-align: right;\">       0</td><td style=\"text-align: right;\">         0</td><td style=\"text-align: right;\">               0</td><td style=\"text-align: right;\">          0</td><td style=\"text-align: right;\">       0</td><td style=\"text-align: right;\">      0</td><td style=\"text-align: right;\">       0</td><td style=\"text-align: right;\">         0</td><td style=\"text-align: right;\">     0</td><td style=\"text-align: right;\">            0</td><td style=\"text-align: right;\">       0</td><td style=\"text-align: right;\">           0</td><td style=\"text-align: right;\">         0</td><td style=\"text-align: right;\">        0</td><td style=\"text-align: right;\">    4</td><td style=\"text-align: right;\">     0</td><td style=\"text-align: right;\">        0</td><td style=\"text-align: right;\">          0</td><td style=\"text-align: right;\">        0</td><td style=\"text-align: right;\">        0</td><td style=\"text-align: right;\">            0</td><td style=\"text-align: right;\">       0</td><td style=\"text-align: right;\">   0</td><td style=\"text-align: right;\">   0</td><td style=\"text-align: right;\">          0</td><td style=\"text-align: right;\">             0</td><td style=\"text-align: right;\">          0</td><td style=\"text-align: right;\">      0</td><td style=\"text-align: right;\">         0</td><td style=\"text-align: right;\">      0</td><td style=\"text-align: right;\">      0</td><td style=\"text-align: right;\">     0</td><td style=\"text-align: right;\">        0</td><td style=\"text-align: right;\">                0</td><td style=\"text-align: right;\">       0</td><td style=\"text-align: right;\">        0</td><td style=\"text-align: right;\">      0</td><td style=\"text-align: right;\">       0</td><td style=\"text-align: right;\">     0</td><td style=\"text-align: right;\">          0</td><td style=\"text-align: right;\">     0</td><td style=\"text-align: right;\">      0</td><td style=\"text-align: right;\">        0</td><td style=\"text-align: right;\">      0</td><td style=\"text-align: right;\">         0</td><td style=\"text-align: right;\">     0</td><td style=\"text-align: right;\">      0</td><td style=\"text-align: right;\">      0</td><td style=\"text-align: right;\">         0</td><td style=\"text-align: right;\">      0</td><td style=\"text-align: right;\">       0</td><td style=\"text-align: right;\">      0</td><td style=\"text-align: right;\">       0</td><td style=\"text-align: right;\">         0</td><td style=\"text-align: right;\">       0</td><td style=\"text-align: right;\">        0</td><td style=\"text-align: right;\">          0</td><td style=\"text-align: right;\">             0</td><td style=\"text-align: right;\">         0</td><td style=\"text-align: right;\">       0</td><td style=\"text-align: right;\">           0</td><td style=\"text-align: right;\">             0</td><td style=\"text-align: right;\">              0</td><td style=\"text-align: right;\">               0</td><td style=\"text-align: right;\">          0</td><td style=\"text-align: right;\">        0</td><td style=\"text-align: right;\">          0</td><td style=\"text-align: right;\">            0</td><td style=\"text-align: right;\">          0</td><td style=\"text-align: right;\">            0</td><td style=\"text-align: right;\">         0</td><td style=\"text-align: right;\">        0</td><td style=\"text-align: right;\">         0</td><td style=\"text-align: right;\">           0</td><td style=\"text-align: right;\">        0</td><td style=\"text-align: right;\">            0</td><td style=\"text-align: right;\">     0</td><td style=\"text-align: right;\">     0</td><td style=\"text-align: right;\">          0</td><td style=\"text-align: right;\">        0</td><td style=\"text-align: right;\">       0</td><td style=\"text-align: right;\">        0</td><td style=\"text-align: right;\">     0</td></tr>\n",
       "</tbody>\n",
       "</table>"
      ]
     },
     "metadata": {},
     "output_type": "display_data"
    },
    {
     "data": {
      "text/plain": []
     },
     "execution_count": 10,
     "metadata": {},
     "output_type": "execute_result"
    }
   ],
   "source": [
    "data.head(3)"
   ]
  },
  {
   "cell_type": "code",
   "execution_count": 11,
   "metadata": {
    "collapsed": true
   },
   "outputs": [],
   "source": [
    "# split data\n",
    "\n",
    "splits = data.split_frame([0.9], seed = 1)\n",
    "train = splits[0]\n",
    "test = splits[1]\n",
    "\n",
    "predictors = data.col_names[:-1]\n",
    "response = \"category\""
   ]
  },
  {
   "cell_type": "markdown",
   "metadata": {},
   "source": [
    "## Train first model"
   ]
  },
  {
   "cell_type": "code",
   "execution_count": 12,
   "metadata": {
    "collapsed": true
   },
   "outputs": [],
   "source": [
    "gbm_model = H2ORandomForestEstimator(distribution=\"multinomial\", seed = 123)"
   ]
  },
  {
   "cell_type": "code",
   "execution_count": 13,
   "metadata": {},
   "outputs": [
    {
     "name": "stdout",
     "output_type": "stream",
     "text": [
      "drf Model Build progress: |███████████████████████████████████████████████| 100%\n"
     ]
    }
   ],
   "source": [
    "gbm_model.train(predictors, response, training_frame=train)"
   ]
  },
  {
   "cell_type": "code",
   "execution_count": 14,
   "metadata": {},
   "outputs": [
    {
     "data": {
      "text/html": [
       "<div>\n",
       "<style>\n",
       "    .dataframe thead tr:only-child th {\n",
       "        text-align: right;\n",
       "    }\n",
       "\n",
       "    .dataframe thead th {\n",
       "        text-align: left;\n",
       "    }\n",
       "\n",
       "    .dataframe tbody tr th {\n",
       "        vertical-align: top;\n",
       "    }\n",
       "</style>\n",
       "<table border=\"1\" class=\"dataframe\">\n",
       "  <thead>\n",
       "    <tr style=\"text-align: right;\">\n",
       "      <th></th>\n",
       "      <th></th>\n",
       "      <th>number_of_trees</th>\n",
       "      <th>number_of_internal_trees</th>\n",
       "      <th>model_size_in_bytes</th>\n",
       "      <th>min_depth</th>\n",
       "      <th>max_depth</th>\n",
       "      <th>mean_depth</th>\n",
       "      <th>min_leaves</th>\n",
       "      <th>max_leaves</th>\n",
       "      <th>mean_leaves</th>\n",
       "    </tr>\n",
       "  </thead>\n",
       "  <tbody>\n",
       "    <tr>\n",
       "      <th>0</th>\n",
       "      <td></td>\n",
       "      <td>50.0</td>\n",
       "      <td>500.0</td>\n",
       "      <td>224270.0</td>\n",
       "      <td>1.0</td>\n",
       "      <td>20.0</td>\n",
       "      <td>16.772</td>\n",
       "      <td>2.0</td>\n",
       "      <td>71.0</td>\n",
       "      <td>30.056</td>\n",
       "    </tr>\n",
       "  </tbody>\n",
       "</table>\n",
       "</div>"
      ],
      "text/plain": [
       "     number_of_trees  number_of_internal_trees  model_size_in_bytes  \\\n",
       "0               50.0                     500.0             224270.0   \n",
       "\n",
       "   min_depth  max_depth  mean_depth  min_leaves  max_leaves  mean_leaves  \n",
       "0        1.0       20.0      16.772         2.0        71.0       30.056  "
      ]
     },
     "execution_count": 14,
     "metadata": {},
     "output_type": "execute_result"
    }
   ],
   "source": [
    "gbm_model.summary().as_data_frame()"
   ]
  },
  {
   "cell_type": "code",
   "execution_count": 15,
   "metadata": {},
   "outputs": [
    {
     "data": {
      "text/html": [
       "<div>\n",
       "<style>\n",
       "    .dataframe thead tr:only-child th {\n",
       "        text-align: right;\n",
       "    }\n",
       "\n",
       "    .dataframe thead th {\n",
       "        text-align: left;\n",
       "    }\n",
       "\n",
       "    .dataframe tbody tr th {\n",
       "        vertical-align: top;\n",
       "    }\n",
       "</style>\n",
       "<table border=\"1\" class=\"dataframe\">\n",
       "  <thead>\n",
       "    <tr style=\"text-align: right;\">\n",
       "      <th></th>\n",
       "      <th>automotive</th>\n",
       "      <th>beauty</th>\n",
       "      <th>digital_electronics</th>\n",
       "      <th>kids</th>\n",
       "      <th>man</th>\n",
       "      <th>military</th>\n",
       "      <th>perfumes</th>\n",
       "      <th>shoes</th>\n",
       "      <th>sport</th>\n",
       "      <th>woman</th>\n",
       "      <th>Error</th>\n",
       "      <th>Rate</th>\n",
       "    </tr>\n",
       "  </thead>\n",
       "  <tbody>\n",
       "    <tr>\n",
       "      <th>0</th>\n",
       "      <td>8.0</td>\n",
       "      <td>0.0</td>\n",
       "      <td>0.0</td>\n",
       "      <td>0.0</td>\n",
       "      <td>0.0</td>\n",
       "      <td>0.0</td>\n",
       "      <td>0.0</td>\n",
       "      <td>0.0</td>\n",
       "      <td>0.0</td>\n",
       "      <td>0.0</td>\n",
       "      <td>0.000000</td>\n",
       "      <td>0 / 8</td>\n",
       "    </tr>\n",
       "    <tr>\n",
       "      <th>1</th>\n",
       "      <td>0.0</td>\n",
       "      <td>9.0</td>\n",
       "      <td>0.0</td>\n",
       "      <td>1.0</td>\n",
       "      <td>0.0</td>\n",
       "      <td>0.0</td>\n",
       "      <td>0.0</td>\n",
       "      <td>0.0</td>\n",
       "      <td>0.0</td>\n",
       "      <td>0.0</td>\n",
       "      <td>0.100000</td>\n",
       "      <td>1 / 10</td>\n",
       "    </tr>\n",
       "    <tr>\n",
       "      <th>2</th>\n",
       "      <td>0.0</td>\n",
       "      <td>0.0</td>\n",
       "      <td>12.0</td>\n",
       "      <td>0.0</td>\n",
       "      <td>0.0</td>\n",
       "      <td>0.0</td>\n",
       "      <td>0.0</td>\n",
       "      <td>0.0</td>\n",
       "      <td>0.0</td>\n",
       "      <td>0.0</td>\n",
       "      <td>0.000000</td>\n",
       "      <td>0 / 12</td>\n",
       "    </tr>\n",
       "    <tr>\n",
       "      <th>3</th>\n",
       "      <td>0.0</td>\n",
       "      <td>0.0</td>\n",
       "      <td>0.0</td>\n",
       "      <td>6.0</td>\n",
       "      <td>0.0</td>\n",
       "      <td>0.0</td>\n",
       "      <td>0.0</td>\n",
       "      <td>0.0</td>\n",
       "      <td>0.0</td>\n",
       "      <td>1.0</td>\n",
       "      <td>0.142857</td>\n",
       "      <td>1 / 7</td>\n",
       "    </tr>\n",
       "    <tr>\n",
       "      <th>4</th>\n",
       "      <td>0.0</td>\n",
       "      <td>0.0</td>\n",
       "      <td>0.0</td>\n",
       "      <td>0.0</td>\n",
       "      <td>7.0</td>\n",
       "      <td>0.0</td>\n",
       "      <td>0.0</td>\n",
       "      <td>0.0</td>\n",
       "      <td>0.0</td>\n",
       "      <td>0.0</td>\n",
       "      <td>0.000000</td>\n",
       "      <td>0 / 7</td>\n",
       "    </tr>\n",
       "    <tr>\n",
       "      <th>5</th>\n",
       "      <td>0.0</td>\n",
       "      <td>0.0</td>\n",
       "      <td>0.0</td>\n",
       "      <td>0.0</td>\n",
       "      <td>0.0</td>\n",
       "      <td>7.0</td>\n",
       "      <td>0.0</td>\n",
       "      <td>0.0</td>\n",
       "      <td>0.0</td>\n",
       "      <td>0.0</td>\n",
       "      <td>0.000000</td>\n",
       "      <td>0 / 7</td>\n",
       "    </tr>\n",
       "    <tr>\n",
       "      <th>6</th>\n",
       "      <td>0.0</td>\n",
       "      <td>0.0</td>\n",
       "      <td>0.0</td>\n",
       "      <td>0.0</td>\n",
       "      <td>0.0</td>\n",
       "      <td>0.0</td>\n",
       "      <td>4.0</td>\n",
       "      <td>0.0</td>\n",
       "      <td>0.0</td>\n",
       "      <td>0.0</td>\n",
       "      <td>0.000000</td>\n",
       "      <td>0 / 4</td>\n",
       "    </tr>\n",
       "    <tr>\n",
       "      <th>7</th>\n",
       "      <td>0.0</td>\n",
       "      <td>0.0</td>\n",
       "      <td>0.0</td>\n",
       "      <td>0.0</td>\n",
       "      <td>0.0</td>\n",
       "      <td>0.0</td>\n",
       "      <td>0.0</td>\n",
       "      <td>18.0</td>\n",
       "      <td>0.0</td>\n",
       "      <td>0.0</td>\n",
       "      <td>0.000000</td>\n",
       "      <td>0 / 18</td>\n",
       "    </tr>\n",
       "    <tr>\n",
       "      <th>8</th>\n",
       "      <td>0.0</td>\n",
       "      <td>0.0</td>\n",
       "      <td>1.0</td>\n",
       "      <td>0.0</td>\n",
       "      <td>0.0</td>\n",
       "      <td>0.0</td>\n",
       "      <td>0.0</td>\n",
       "      <td>0.0</td>\n",
       "      <td>7.0</td>\n",
       "      <td>0.0</td>\n",
       "      <td>0.125000</td>\n",
       "      <td>1 / 8</td>\n",
       "    </tr>\n",
       "    <tr>\n",
       "      <th>9</th>\n",
       "      <td>0.0</td>\n",
       "      <td>2.0</td>\n",
       "      <td>0.0</td>\n",
       "      <td>1.0</td>\n",
       "      <td>1.0</td>\n",
       "      <td>0.0</td>\n",
       "      <td>0.0</td>\n",
       "      <td>0.0</td>\n",
       "      <td>0.0</td>\n",
       "      <td>4.0</td>\n",
       "      <td>0.500000</td>\n",
       "      <td>4 / 8</td>\n",
       "    </tr>\n",
       "    <tr>\n",
       "      <th>10</th>\n",
       "      <td>8.0</td>\n",
       "      <td>11.0</td>\n",
       "      <td>13.0</td>\n",
       "      <td>8.0</td>\n",
       "      <td>8.0</td>\n",
       "      <td>7.0</td>\n",
       "      <td>4.0</td>\n",
       "      <td>18.0</td>\n",
       "      <td>7.0</td>\n",
       "      <td>5.0</td>\n",
       "      <td>0.078652</td>\n",
       "      <td>7 / 89</td>\n",
       "    </tr>\n",
       "  </tbody>\n",
       "</table>\n",
       "</div>"
      ],
      "text/plain": [
       "    automotive  beauty  digital_electronics  kids  man  military  perfumes  \\\n",
       "0          8.0     0.0                  0.0   0.0  0.0       0.0       0.0   \n",
       "1          0.0     9.0                  0.0   1.0  0.0       0.0       0.0   \n",
       "2          0.0     0.0                 12.0   0.0  0.0       0.0       0.0   \n",
       "3          0.0     0.0                  0.0   6.0  0.0       0.0       0.0   \n",
       "4          0.0     0.0                  0.0   0.0  7.0       0.0       0.0   \n",
       "5          0.0     0.0                  0.0   0.0  0.0       7.0       0.0   \n",
       "6          0.0     0.0                  0.0   0.0  0.0       0.0       4.0   \n",
       "7          0.0     0.0                  0.0   0.0  0.0       0.0       0.0   \n",
       "8          0.0     0.0                  1.0   0.0  0.0       0.0       0.0   \n",
       "9          0.0     2.0                  0.0   1.0  1.0       0.0       0.0   \n",
       "10         8.0    11.0                 13.0   8.0  8.0       7.0       4.0   \n",
       "\n",
       "    shoes  sport  woman     Error    Rate  \n",
       "0     0.0    0.0    0.0  0.000000   0 / 8  \n",
       "1     0.0    0.0    0.0  0.100000  1 / 10  \n",
       "2     0.0    0.0    0.0  0.000000  0 / 12  \n",
       "3     0.0    0.0    1.0  0.142857   1 / 7  \n",
       "4     0.0    0.0    0.0  0.000000   0 / 7  \n",
       "5     0.0    0.0    0.0  0.000000   0 / 7  \n",
       "6     0.0    0.0    0.0  0.000000   0 / 4  \n",
       "7    18.0    0.0    0.0  0.000000  0 / 18  \n",
       "8     0.0    7.0    0.0  0.125000   1 / 8  \n",
       "9     0.0    0.0    4.0  0.500000   4 / 8  \n",
       "10   18.0    7.0    5.0  0.078652  7 / 89  "
      ]
     },
     "execution_count": 15,
     "metadata": {},
     "output_type": "execute_result"
    }
   ],
   "source": [
    "# confusion_matrix for test/train data\n",
    "gbm_model.confusion_matrix(test).as_data_frame()"
   ]
  },
  {
   "cell_type": "code",
   "execution_count": 16,
   "metadata": {},
   "outputs": [
    {
     "name": "stdout",
     "output_type": "stream",
     "text": [
      "R2 error: 0.9849712166198512\n",
      "MSE error: 0.12338808948244873\n",
      "1 - MSE error: 0.8766119105175513\n"
     ]
    }
   ],
   "source": [
    "# error for train data\n",
    "\n",
    "print(\"R2 error: {}\".format(gbm_model.r2()))\n",
    "print(\"MSE error: {}\".format(gbm_model.mse()))\n",
    "print(\"1 - MSE error: {}\".format(1- gbm_model.mse()))"
   ]
  },
  {
   "cell_type": "code",
   "execution_count": 17,
   "metadata": {},
   "outputs": [
    {
     "name": "stdout",
     "output_type": "stream",
     "text": [
      "R2 error: 0.9854155758834503\n",
      "MSE error: 0.12455956211142413\n",
      "1 - MSE error: 0.8754404378885758\n"
     ]
    }
   ],
   "source": [
    "# error for test data\n",
    "\n",
    "test_model = gbm_model.model_performance(test)\n",
    "print(\"R2 error: {}\".format(test_model.r2()))\n",
    "print(\"MSE error: {}\".format(test_model.mse()))\n",
    "print(\"1 - MSE error: {}\".format(1 - test_model.mse()))"
   ]
  },
  {
   "cell_type": "code",
   "execution_count": 18,
   "metadata": {},
   "outputs": [
    {
     "name": "stdout",
     "output_type": "stream",
     "text": [
      "drf prediction progress: |████████████████████████████████████████████████| 100%\n",
      "accuracy_score: 0.9213483146067416\n"
     ]
    }
   ],
   "source": [
    "# accuracy score \n",
    "\n",
    "predictions = gbm_model.predict(test)[\"predict\"][:,0].as_data_frame()\n",
    "real = test[\"category\"][:,0].as_data_frame()\n",
    "print(\"accuracy_score: {}\".format(accuracy_score(real, predictions)))"
   ]
  },
  {
   "cell_type": "markdown",
   "metadata": {},
   "source": [
    "## Do some feature engineering and selection here"
   ]
  },
  {
   "cell_type": "code",
   "execution_count": 19,
   "metadata": {},
   "outputs": [
    {
     "name": "stdout",
     "output_type": "stream",
     "text": [
      "drf Model Build progress: |███████████████████████████████████████████████| 100%\n",
      "drf prediction progress: |████████████████████████████████████████████████| 100%\n",
      "10\n",
      "accuracy_score: 0.5617977528089888\n",
      "drf Model Build progress: |███████████████████████████████████████████████| 100%\n",
      "drf prediction progress: |████████████████████████████████████████████████| 100%\n",
      "30\n",
      "accuracy_score: 0.7303370786516854\n",
      "drf Model Build progress: |███████████████████████████████████████████████| 100%\n",
      "drf prediction progress: |████████████████████████████████████████████████| 100%\n",
      "50\n",
      "accuracy_score: 0.8314606741573034\n",
      "drf Model Build progress: |███████████████████████████████████████████████| 100%\n",
      "drf prediction progress: |████████████████████████████████████████████████| 100%\n",
      "accuracy_score: 0.7865168539325843\n",
      "drf Model Build progress: |███████████████████████████████████████████████| 100%\n",
      "drf prediction progress: |████████████████████████████████████████████████| 100%\n",
      "90\n",
      "accuracy_score: 0.8651685393258427\n",
      "drf Model Build progress: |███████████████████████████████████████████████| 100%\n",
      "drf prediction progress: |████████████████████████████████████████████████| 100%\n",
      "110\n",
      "accuracy_score: 0.8876404494382022\n",
      "drf Model Build progress: |███████████████████████████████████████████████| 100%\n",
      "drf prediction progress: |████████████████████████████████████████████████| 100%\n",
      "accuracy_score: 0.8651685393258427\n",
      "drf Model Build progress: |███████████████████████████████████████████████| 100%\n",
      "drf prediction progress: |████████████████████████████████████████████████| 100%\n",
      "accuracy_score: 0.8764044943820225\n",
      "drf Model Build progress: |███████████████████████████████████████████████| 100%\n",
      "drf prediction progress: |████████████████████████████████████████████████| 100%\n",
      "accuracy_score: 0.8764044943820225\n",
      "drf Model Build progress: |███████████████████████████████████████████████| 100%\n",
      "drf prediction progress: |████████████████████████████████████████████████| 100%\n",
      "accuracy_score: 0.8876404494382022\n",
      "drf Model Build progress: |███████████████████████████████████████████████| 100%\n",
      "drf prediction progress: |████████████████████████████████████████████████| 100%\n",
      "accuracy_score: 0.8876404494382022\n",
      "drf Model Build progress: |███████████████████████████████████████████████| 100%\n",
      "drf prediction progress: |████████████████████████████████████████████████| 100%\n",
      "230\n",
      "accuracy_score: 0.898876404494382\n",
      "drf Model Build progress: |███████████████████████████████████████████████| 100%\n",
      "drf prediction progress: |████████████████████████████████████████████████| 100%\n",
      "accuracy_score: 0.8876404494382022\n",
      "drf Model Build progress: |███████████████████████████████████████████████| 100%\n",
      "drf prediction progress: |████████████████████████████████████████████████| 100%\n",
      "accuracy_score: 0.898876404494382\n",
      "drf Model Build progress: |███████████████████████████████████████████████| 100%\n",
      "drf prediction progress: |████████████████████████████████████████████████| 100%\n",
      "accuracy_score: 0.898876404494382\n",
      "drf Model Build progress: |███████████████████████████████████████████████| 100%\n",
      "drf prediction progress: |████████████████████████████████████████████████| 100%\n",
      "accuracy_score: 0.8876404494382022\n",
      "drf Model Build progress: |███████████████████████████████████████████████| 100%\n",
      "drf prediction progress: |████████████████████████████████████████████████| 100%\n",
      "accuracy_score: 0.898876404494382\n",
      "drf Model Build progress: |███████████████████████████████████████████████| 100%\n",
      "drf prediction progress: |████████████████████████████████████████████████| 100%\n",
      "accuracy_score: 0.8876404494382022\n",
      "drf Model Build progress: |███████████████████████████████████████████████| 100%\n",
      "drf prediction progress: |████████████████████████████████████████████████| 100%\n",
      "accuracy_score: 0.898876404494382\n",
      "drf Model Build progress: |███████████████████████████████████████████████| 100%\n",
      "drf prediction progress: |████████████████████████████████████████████████| 100%\n",
      "accuracy_score: 0.8876404494382022\n",
      "drf Model Build progress: |███████████████████████████████████████████████| 100%\n",
      "drf prediction progress: |████████████████████████████████████████████████| 100%\n",
      "accuracy_score: 0.8876404494382022\n",
      "drf Model Build progress: |███████████████████████████████████████████████| 100%\n",
      "drf prediction progress: |████████████████████████████████████████████████| 100%\n",
      "accuracy_score: 0.8876404494382022\n",
      "drf Model Build progress: |███████████████████████████████████████████████| 100%\n",
      "drf prediction progress: |████████████████████████████████████████████████| 100%\n",
      "450\n",
      "accuracy_score: 0.9101123595505618\n",
      "drf Model Build progress: |███████████████████████████████████████████████| 100%\n",
      "drf prediction progress: |████████████████████████████████████████████████| 100%\n",
      "accuracy_score: 0.898876404494382\n",
      "drf Model Build progress: |███████████████████████████████████████████████| 100%\n",
      "drf prediction progress: |████████████████████████████████████████████████| 100%\n",
      "accuracy_score: 0.8876404494382022\n",
      "drf Model Build progress: |███████████████████████████████████████████████| 100%\n",
      "drf prediction progress: |████████████████████████████████████████████████| 100%\n",
      "accuracy_score: 0.898876404494382\n",
      "drf Model Build progress: |███████████████████████████████████████████████| 100%\n",
      "drf prediction progress: |████████████████████████████████████████████████| 100%\n",
      "accuracy_score: 0.8876404494382022\n",
      "drf Model Build progress: |███████████████████████████████████████████████| 100%\n",
      "drf prediction progress: |████████████████████████████████████████████████| 100%\n",
      "accuracy_score: 0.898876404494382\n",
      "drf Model Build progress: |███████████████████████████████████████████████| 100%\n",
      "drf prediction progress: |████████████████████████████████████████████████| 100%\n",
      "accuracy_score: 0.9101123595505618\n",
      "drf Model Build progress: |███████████████████████████████████████████████| 100%\n",
      "drf prediction progress: |████████████████████████████████████████████████| 100%\n",
      "590\n",
      "accuracy_score: 0.9213483146067416\n",
      "drf Model Build progress: |███████████████████████████████████████████████| 100%\n",
      "drf prediction progress: |████████████████████████████████████████████████| 100%\n",
      "accuracy_score: 0.898876404494382\n",
      "drf Model Build progress: |███████████████████████████████████████████████| 100%\n",
      "drf prediction progress: |████████████████████████████████████████████████| 100%\n",
      "accuracy_score: 0.8876404494382022\n",
      "drf Model Build progress: |███████████████████████████████████████████████| 100%\n",
      "drf prediction progress: |████████████████████████████████████████████████| 100%\n",
      "accuracy_score: 0.898876404494382\n",
      "drf Model Build progress: |███████████████████████████████████████████████| 100%\n",
      "drf prediction progress: |████████████████████████████████████████████████| 100%\n",
      "accuracy_score: 0.8876404494382022\n",
      "drf Model Build progress: |███████████████████████████████████████████████| 100%\n",
      "drf prediction progress: |████████████████████████████████████████████████| 100%\n",
      "accuracy_score: 0.898876404494382\n",
      "drf Model Build progress: |███████████████████████████████████████████████| 100%\n",
      "drf prediction progress: |████████████████████████████████████████████████| 100%\n",
      "accuracy_score: 0.898876404494382\n",
      "drf Model Build progress: |███████████████████████████████████████████████| 100%\n",
      "drf prediction progress: |████████████████████████████████████████████████| 100%\n",
      "accuracy_score: 0.9101123595505618\n",
      "drf Model Build progress: |███████████████████████████████████████████████| 100%\n",
      "drf prediction progress: |████████████████████████████████████████████████| 100%\n",
      "accuracy_score: 0.9101123595505618\n",
      "drf Model Build progress: |███████████████████████████████████████████████| 100%\n",
      "drf prediction progress: |████████████████████████████████████████████████| 100%\n",
      "accuracy_score: 0.8876404494382022\n",
      "drf Model Build progress: |███████████████████████████████████████████████| 100%\n",
      "drf prediction progress: |████████████████████████████████████████████████| 100%\n",
      "accuracy_score: 0.898876404494382\n"
     ]
    }
   ],
   "source": [
    "# delete not important features with Kbest\n",
    "from sklearn.feature_selection import SelectKBest\n",
    "from sklearn.feature_selection import chi2\n",
    "\n",
    "gbm_model = H2ORandomForestEstimator(distribution=\"multinomial\", seed = 123)\n",
    "\n",
    "X = train[train.col_names[:-1]].as_data_frame()  \n",
    "y = train[\"category\"].as_data_frame()    \n",
    "\n",
    "acc = []\n",
    "acc_score = 0\n",
    "\n",
    "Kfrom = 10\n",
    "Kto = 800\n",
    "Kstep = 20\n",
    "\n",
    "for k in range(Kfrom, Kto, Kstep):\n",
    "    selection = SelectKBest(score_func=chi2, k=k)\n",
    "    fit = selection.fit(X,y)\n",
    "    new_X = selection.fit(X,y).transform(X)\n",
    "    \n",
    "    dfscores = pd.DataFrame(fit.scores_)\n",
    "    dfcolumns = pd.DataFrame(X.columns)\n",
    "    featureScores = pd.concat([dfcolumns,dfscores],axis=1)\n",
    "    featureScores.columns = ['Features','Score']\n",
    "    best_features = featureScores.nlargest(k,'Score')\n",
    "    \n",
    "    Ktrain = train[list(best_features[\"Features\"])+[\"category\"]]\n",
    "    Ktest = test[list(best_features[\"Features\"])+[\"category\"]]\n",
    "\n",
    "    Kpredictors = Ktrain.col_names[:-1]\n",
    "    Kresponse = \"category\"\n",
    "    \n",
    "    gbm_model.train(Kpredictors, Kresponse, training_frame=Ktrain)\n",
    "\n",
    "    predictions = gbm_model.predict(Ktest)[\"predict\"][:,0].as_data_frame()\n",
    "    real = Ktest[\"category\"][:,0].as_data_frame()\n",
    "    acc.append(accuracy_score(real, predictions))\n",
    "    if (accuracy_score(real, predictions) > acc_score):\n",
    "        print(k)\n",
    "        acc_score = accuracy_score(real, predictions)\n",
    "        new_train = Ktrain\n",
    "        new_test = Ktest\n",
    "    print(\"accuracy_score: {}\".format(accuracy_score(real, predictions)))"
   ]
  },
  {
   "cell_type": "code",
   "execution_count": 20,
   "metadata": {},
   "outputs": [
    {
     "data": {
      "image/png": "[encoded data removed]",
      "text/plain": [
       "<Figure size 432x288 with 1 Axes>"
      ]
     },
     "metadata": {},
     "output_type": "display_data"
    }
   ],
   "source": [
    "plt.plot(list(range(Kfrom, Kto, Kstep)), acc)\n",
    "plt.show()"
   ]
  },
  {
   "cell_type": "code",
   "execution_count": 21,
   "metadata": {},
   "outputs": [
    {
     "name": "stdout",
     "output_type": "stream",
     "text": [
      "Leave only 590 labels\n"
     ]
    }
   ],
   "source": [
    "bestK = (acc.index(max(acc))+1)*Kstep - Kfrom\n",
    "print(\"Leave only {} labels\".format(bestK))"
   ]
  },
  {
   "cell_type": "code",
   "execution_count": 22,
   "metadata": {
    "collapsed": true,
    "scrolled": true
   },
   "outputs": [],
   "source": [
    "train = new_train\n",
    "test = new_test\n",
    "\n",
    "predictors = test.col_names[:-1]\n",
    "response = \"category\""
   ]
  },
  {
   "cell_type": "markdown",
   "metadata": {},
   "source": [
    "## Tune parameters of the model"
   ]
  },
  {
   "cell_type": "code",
   "execution_count": 75,
   "metadata": {},
   "outputs": [
    {
     "name": "stdout",
     "output_type": "stream",
     "text": [
      "drf Grid Build progress: |████████████████████████████████████████████████| 100%\n"
     ]
    }
   ],
   "source": [
    "from h2o.grid.grid_search import H2OGridSearch\n",
    "\n",
    "params = {'max_depth' : list(range(20,40,2))}\n",
    "gbm_grid = H2ORandomForestEstimator(ntrees = 100, seed = 123)\n",
    "grid = H2OGridSearch(gbm_grid, params,\n",
    "                         grid_id = 'depth_grid')\n",
    "grid.train(x = predictors, y = response, training_frame = train, validation_frame = test)"
   ]
  },
  {
   "cell_type": "code",
   "execution_count": 76,
   "metadata": {},
   "outputs": [
    {
     "name": "stdout",
     "output_type": "stream",
     "text": [
      "     max_depth            model_ids                  mse\n",
      "0           28  depth_grid_model_14  0.12136299194538416\n",
      "1           30  depth_grid_model_20  0.12144253827393725\n",
      "2           26  depth_grid_model_13  0.12146095315679112\n",
      "3           24  depth_grid_model_12   0.1216042139776856\n",
      "4           32  depth_grid_model_21  0.12169154813064834\n",
      "5           34  depth_grid_model_22  0.12192425353372302\n",
      "6           36  depth_grid_model_23   0.1221906954972317\n",
      "7           22  depth_grid_model_11   0.1224743756608249\n",
      "8           38  depth_grid_model_24  0.12274254008243768\n",
      "9           20  depth_grid_model_10  0.12348708526829077\n",
      "10          18   depth_grid_model_9  0.12364744757214328\n",
      "11          16   depth_grid_model_8  0.12579070238789075\n",
      "12          14   depth_grid_model_7  0.12954423981948576\n",
      "13          12   depth_grid_model_6  0.13668677971459892\n",
      "14          10   depth_grid_model_5  0.14951772372507263\n",
      "15           8   depth_grid_model_4  0.16978661991711352\n",
      "16           6   depth_grid_model_3  0.21374930656591754\n",
      "17           4   depth_grid_model_2  0.29554261379986396\n",
      "18           2   depth_grid_model_1  0.44672438332635245\n"
     ]
    },
    {
     "data": {
      "text/plain": []
     },
     "execution_count": 76,
     "metadata": {},
     "output_type": "execute_result"
    }
   ],
   "source": [
    "grid.get_grid(sort_by = 'mse')"
   ]
  },
  {
   "cell_type": "code",
   "execution_count": 24,
   "metadata": {},
   "outputs": [
    {
     "name": "stdout",
     "output_type": "stream",
     "text": [
      "drf Grid Build progress: |████████████████████████████████████████████████| 100%\n"
     ]
    }
   ],
   "source": [
    "from h2o.grid.grid_search import H2OGridSearch\n",
    "\n",
    "params = {'max_depth' : list(range(24,34,1)),\n",
    "          \"ntrees\": [50,100,200,300],\n",
    "          \"histogram_type\": [\"uniform_adaptive\", \"random\", \"quantiles_global\", \"round_robin\"]}\n",
    "\n",
    "gbm_grid = H2ORandomForestEstimator(seed = 123, stopping_metric = \"mse\", max_runtime_secs = 5*60,\n",
    "                                   keep_cross_validation_predictions = True)\n",
    "grid = H2OGridSearch(gbm_grid, params,\n",
    "                         grid_id = 'depth_grid')\n",
    "grid.train(x = predictors, y = response, training_frame = train, validation_frame = test)"
   ]
  },
  {
   "cell_type": "code",
   "execution_count": 28,
   "metadata": {},
   "outputs": [],
   "source": [
    "final_grid = grid.get_grid(sort_by = 'mse')\n",
    "best_model = h2o.get_model(final_grid.sorted_metric_table()['model_ids'][0])"
   ]
  },
  {
   "cell_type": "code",
   "execution_count": 31,
   "metadata": {},
   "outputs": [
    {
     "name": "stdout",
     "output_type": "stream",
     "text": [
      "R2 error: 0.9863332474593643\n",
      "MSE error: 0.11672210697815999\n",
      "1 - MSE error: 0.88327789302184\n",
      "drf prediction progress: |████████████████████████████████████████████████| 100%\n",
      "accuracy_score: 0.9101123595505618\n"
     ]
    }
   ],
   "source": [
    "# error for test data\n",
    "\n",
    "test_model = best_model.model_performance(test)\n",
    "print(\"R2 error: {}\".format(test_model.r2()))\n",
    "print(\"MSE error: {}\".format(test_model.mse()))\n",
    "print(\"1 - MSE error: {}\".format(1 - test_model.mse()))\n",
    "\n",
    "# accuracy score \n",
    "\n",
    "predictions = best_model.predict(test)[\"predict\"][:,0].as_data_frame() #0.8488372093023255\n",
    "real = test[\"category\"][:,0].as_data_frame()\n",
    "print(\"accuracy_score: {}\".format(accuracy_score(real, predictions)))  "
   ]
  },
  {
   "cell_type": "code",
   "execution_count": null,
   "metadata": {
    "collapsed": true
   },
   "outputs": [],
   "source": []
  }
 ],
 "metadata": {
  "kernelspec": {
   "display_name": "Python 3",
   "language": "python",
   "name": "python3"
  },
  "language_info": {
   "codemirror_mode": {
    "name": "ipython",
    "version": 3
   },
   "file_extension": ".py",
   "mimetype": "text/x-python",
   "name": "python",
   "nbconvert_exporter": "python",
   "pygments_lexer": "ipython3",
   "version": "3.6.6"
  }
 },
 "nbformat": 4,
 "nbformat_minor": 2
}
