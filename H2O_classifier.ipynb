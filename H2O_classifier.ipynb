{
 "cells": [
  {
   "cell_type": "code",
   "execution_count": 1,
   "metadata": {
    "collapsed": true
   },
   "outputs": [],
   "source": [
    "import h2o\n",
    "import pandas as pd\n",
    "import numpy as np\n",
    "import matplotlib.pyplot as plt\n",
    "from sklearn.feature_extraction.text import CountVectorizer\n",
    "from h2o.estimators.gbm import H2OGradientBoostingEstimator\n",
    "from h2o.estimators.random_forest import H2ORandomForestEstimator\n",
    "from sklearn.metrics import accuracy_score\n"
   ]
  },
  {
   "cell_type": "code",
   "execution_count": 2,
   "metadata": {},
   "outputs": [
    {
     "name": "stdout",
     "output_type": "stream",
     "text": [
      "Checking whether there is an H2O instance running at http://localhost:54321 ..... not found.\n",
      "Attempting to start a local H2O server...\n",
      "; Java HotSpot(TM) 64-Bit Server VM 18.3 (build 10.0.1+10, mixed mode)\n",
      "  Starting server from C:\\Users\\N1\\Anaconda3\\lib\\site-packages\\h2o\\backend\\bin\\h2o.jar\n",
      "  Ice root: C:\\Users\\N1\\AppData\\Local\\Temp\\tmpimpptbov\n",
      "  JVM stdout: C:\\Users\\N1\\AppData\\Local\\Temp\\tmpimpptbov\\h2o_N1_started_from_python.out\n",
      "  JVM stderr: C:\\Users\\N1\\AppData\\Local\\Temp\\tmpimpptbov\\h2o_N1_started_from_python.err\n",
      "  Server is running at http://127.0.0.1:54321\n",
      "Connecting to H2O server at http://127.0.0.1:54321 ... successful.\n"
     ]
    },
    {
     "data": {
      "text/html": [
       "<div style=\"overflow:auto\"><table style=\"width:50%\"><tr><td>H2O cluster uptime:</td>\n",
       "<td>02 secs</td></tr>\n",
       "<tr><td>H2O cluster timezone:</td>\n",
       "<td>Europe/Helsinki</td></tr>\n",
       "<tr><td>H2O data parsing timezone:</td>\n",
       "<td>UTC</td></tr>\n",
       "<tr><td>H2O cluster version:</td>\n",
       "<td>3.24.0.3</td></tr>\n",
       "<tr><td>H2O cluster version age:</td>\n",
       "<td>4 days </td></tr>\n",
       "<tr><td>H2O cluster name:</td>\n",
       "<td>H2O_from_python_N1_zh5tjr</td></tr>\n",
       "<tr><td>H2O cluster total nodes:</td>\n",
       "<td>1</td></tr>\n",
       "<tr><td>H2O cluster free memory:</td>\n",
       "<td>1.971 Gb</td></tr>\n",
       "<tr><td>H2O cluster total cores:</td>\n",
       "<td>0</td></tr>\n",
       "<tr><td>H2O cluster allowed cores:</td>\n",
       "<td>0</td></tr>\n",
       "<tr><td>H2O cluster status:</td>\n",
       "<td>accepting new members, healthy</td></tr>\n",
       "<tr><td>H2O connection url:</td>\n",
       "<td>http://127.0.0.1:54321</td></tr>\n",
       "<tr><td>H2O connection proxy:</td>\n",
       "<td>None</td></tr>\n",
       "<tr><td>H2O internal security:</td>\n",
       "<td>False</td></tr>\n",
       "<tr><td>H2O API Extensions:</td>\n",
       "<td>Amazon S3, Algos, AutoML, Core V3, Core V4</td></tr>\n",
       "<tr><td>Python version:</td>\n",
       "<td>3.6.6 final</td></tr></table></div>"
      ],
      "text/plain": [
       "--------------------------  ------------------------------------------\n",
       "H2O cluster uptime:         02 secs\n",
       "H2O cluster timezone:       Europe/Helsinki\n",
       "H2O data parsing timezone:  UTC\n",
       "H2O cluster version:        3.24.0.3\n",
       "H2O cluster version age:    4 days\n",
       "H2O cluster name:           H2O_from_python_N1_zh5tjr\n",
       "H2O cluster total nodes:    1\n",
       "H2O cluster free memory:    1.971 Gb\n",
       "H2O cluster total cores:    0\n",
       "H2O cluster allowed cores:  0\n",
       "H2O cluster status:         accepting new members, healthy\n",
       "H2O connection url:         http://127.0.0.1:54321\n",
       "H2O connection proxy:\n",
       "H2O internal security:      False\n",
       "H2O API Extensions:         Amazon S3, Algos, AutoML, Core V3, Core V4\n",
       "Python version:             3.6.6 final\n",
       "--------------------------  ------------------------------------------"
      ]
     },
     "metadata": {},
     "output_type": "display_data"
    }
   ],
   "source": [
    "h2o.init()"
   ]
  },
  {
   "cell_type": "code",
   "execution_count": 58,
   "metadata": {},
   "outputs": [
    {
     "name": "stdout",
     "output_type": "stream",
     "text": [
      "Parse progress: |█████████████████████████████████████████████████████████| 100%\n"
     ]
    }
   ],
   "source": [
    "data = h2o.import_file(\"data2.csv\")"
   ]
  },
  {
   "cell_type": "code",
   "execution_count": 59,
   "metadata": {},
   "outputs": [
    {
     "data": {
      "text/html": [
       "<table>\n",
       "<thead>\n",
       "<tr><th style=\"text-align: right;\">  isNA(labels)</th><th style=\"text-align: right;\">  nrow</th></tr>\n",
       "</thead>\n",
       "<tbody>\n",
       "<tr><td style=\"text-align: right;\">             0</td><td style=\"text-align: right;\">   916</td></tr>\n",
       "<tr><td style=\"text-align: right;\">             1</td><td style=\"text-align: right;\">    84</td></tr>\n",
       "</tbody>\n",
       "</table>"
      ]
     },
     "metadata": {},
     "output_type": "display_data"
    },
    {
     "data": {
      "text/plain": []
     },
     "execution_count": 59,
     "metadata": {},
     "output_type": "execute_result"
    }
   ],
   "source": [
    "nan_frame = data.isna().group_by(by = ['isNA(labels)']).count().get_frame()\n",
    "nan_frame"
   ]
  },
  {
   "cell_type": "code",
   "execution_count": 60,
   "metadata": {},
   "outputs": [
    {
     "data": {
      "text/html": [
       "<table>\n",
       "<thead>\n",
       "<tr><th>category           </th><th style=\"text-align: right;\">  nrow</th></tr>\n",
       "</thead>\n",
       "<tbody>\n",
       "<tr><td>automotive         </td><td style=\"text-align: right;\">    91</td></tr>\n",
       "<tr><td>beauty             </td><td style=\"text-align: right;\">    91</td></tr>\n",
       "<tr><td>digital_electronics</td><td style=\"text-align: right;\">    88</td></tr>\n",
       "<tr><td>kids               </td><td style=\"text-align: right;\">    91</td></tr>\n",
       "<tr><td>man                </td><td style=\"text-align: right;\">    90</td></tr>\n",
       "<tr><td>military           </td><td style=\"text-align: right;\">    91</td></tr>\n",
       "<tr><td>perfumes           </td><td style=\"text-align: right;\">    94</td></tr>\n",
       "<tr><td>shoes              </td><td style=\"text-align: right;\">    96</td></tr>\n",
       "<tr><td>sport              </td><td style=\"text-align: right;\">    93</td></tr>\n",
       "<tr><td>woman              </td><td style=\"text-align: right;\">    91</td></tr>\n",
       "</tbody>\n",
       "</table>"
      ]
     },
     "metadata": {},
     "output_type": "display_data"
    },
    {
     "data": {
      "text/plain": []
     },
     "execution_count": 60,
     "metadata": {},
     "output_type": "execute_result"
    }
   ],
   "source": [
    "data = data.na_omit()\n",
    "data.group_by(by = \"category\").count().get_frame()"
   ]
  },
  {
   "cell_type": "code",
   "execution_count": 61,
   "metadata": {},
   "outputs": [
    {
     "data": {
      "text/html": [
       "<table>\n",
       "<thead>\n",
       "<tr><th style=\"text-align: right;\">  C1</th><th>path                                                                                                                 </th><th>labels                                                                                                                        </th><th>category  </th></tr>\n",
       "</thead>\n",
       "<tbody>\n",
       "<tr><td style=\"text-align: right;\">   0</td><td>https://www.synopsys.com/content/dam/synopsys/verification/Veification_SaberAutomotive_spotlight.jpg.imgw.560.336.jpg</td><td>Land vehicle Vehicle Car Sports car Automotive design Coup? Performance car Supercar Luxury vehicle Aston martin dbs v12      </td><td>automotive</td></tr>\n",
       "<tr><td style=\"text-align: right;\">   1</td><td>https://cdn.rohde-schwarz.com/pws/solution/automotive_1/webinarcenter/automotive_webinars_teaser.jpg                 </td><td>Land vehicle Automotive design Mid-size car Vehicle Car Personal luxury car Concept car Full-size car Executive car Family car</td><td>automotive</td></tr>\n",
       "<tr><td style=\"text-align: right;\">   2</td><td>https://blokt.com/wp-content/uploads/2018/08/shutterstock_747021289.jpg                                              </td><td>Land vehicle Vehicle Car Personal luxury car Luxury vehicle Automotive design Performance car Bmw Sports car Rim              </td><td>automotive</td></tr>\n",
       "</tbody>\n",
       "</table>"
      ]
     },
     "metadata": {},
     "output_type": "display_data"
    },
    {
     "data": {
      "text/plain": []
     },
     "execution_count": 61,
     "metadata": {},
     "output_type": "execute_result"
    }
   ],
   "source": [
    "data.head(3)"
   ]
  },
  {
   "cell_type": "code",
   "execution_count": 62,
   "metadata": {},
   "outputs": [
    {
     "name": "stdout",
     "output_type": "stream",
     "text": [
      "Parse progress: |█████████████████████████████████████████████████████████| 100%\n"
     ]
    }
   ],
   "source": [
    "def preprocessor(line):\n",
    "    return line.lower()\n",
    "\n",
    "vectorizer = CountVectorizer(preprocessor = preprocessor, stop_words = \"english\")\n",
    "vectorized = vectorizer.fit_transform(data.as_data_frame()[\"labels\"]).todense()\n",
    "\n",
    "data_labels = h2o.H2OFrame.from_python(pd.DataFrame(data=vectorized, columns=sorted(vectorizer.vocabulary_)))"
   ]
  },
  {
   "cell_type": "code",
   "execution_count": 63,
   "metadata": {
    "collapsed": true
   },
   "outputs": [],
   "source": [
    "data = data.drop([\"labels\"])\n",
    "data = data_labels.cbind(data)\n",
    "paths = data[\"path\"]\n",
    "data = data.drop([\"path\", \"C1\"])"
   ]
  },
  {
   "cell_type": "code",
   "execution_count": 64,
   "metadata": {},
   "outputs": [
    {
     "data": {
      "text/plain": [
       "(916, 862)"
      ]
     },
     "execution_count": 64,
     "metadata": {},
     "output_type": "execute_result"
    }
   ],
   "source": [
    "data.shape"
   ]
  },
  {
   "cell_type": "code",
   "execution_count": 65,
   "metadata": {},
   "outputs": [
    {
     "data": {
      "text/html": [
       "<table>\n",
       "<thead>\n",
       "<tr><th style=\"text-align: right;\">  3d</th><th style=\"text-align: right;\">  47</th><th style=\"text-align: right;\">  abdomen</th><th style=\"text-align: right;\">  accessory</th><th style=\"text-align: right;\">  acrobatic</th><th style=\"text-align: right;\">  action</th><th style=\"text-align: right;\">  active</th><th style=\"text-align: right;\">  adaptation</th><th style=\"text-align: right;\">  adventure</th><th style=\"text-align: right;\">  advertising</th><th style=\"text-align: right;\">  aerospace</th><th style=\"text-align: right;\">  afro</th><th style=\"text-align: right;\">  aftershave</th><th style=\"text-align: right;\">  air</th><th style=\"text-align: right;\">  aircraft</th><th style=\"text-align: right;\">  airman</th><th style=\"text-align: right;\">  airplane</th><th style=\"text-align: right;\">  album</th><th style=\"text-align: right;\">  alcoholic</th><th style=\"text-align: right;\">  alloy</th><th style=\"text-align: right;\">  alpine</th><th style=\"text-align: right;\">  amber</th><th style=\"text-align: right;\">  american</th><th style=\"text-align: right;\">  amusement</th><th style=\"text-align: right;\">  animal</th><th style=\"text-align: right;\">  animated</th><th style=\"text-align: right;\">  animation</th><th style=\"text-align: right;\">  ankle</th><th style=\"text-align: right;\">  appliance</th><th style=\"text-align: right;\">  aqua</th><th style=\"text-align: right;\">  archery</th><th style=\"text-align: right;\">  architecture</th><th style=\"text-align: right;\">  area</th><th style=\"text-align: right;\">  arena</th><th style=\"text-align: right;\">  arm</th><th style=\"text-align: right;\">  army</th><th style=\"text-align: right;\">  arrow</th><th style=\"text-align: right;\">  art</th><th style=\"text-align: right;\">  artificial</th><th style=\"text-align: right;\">  artist</th><th style=\"text-align: right;\">  arts</th><th style=\"text-align: right;\">  artwork</th><th style=\"text-align: right;\">  asphalt</th><th style=\"text-align: right;\">  assembly</th><th style=\"text-align: right;\">  aston</th><th style=\"text-align: right;\">  athlete</th><th style=\"text-align: right;\">  athletic</th><th style=\"text-align: right;\">  athletics</th><th style=\"text-align: right;\">  atlas</th><th style=\"text-align: right;\">  atmosphere</th><th style=\"text-align: right;\">  atmospheric</th><th style=\"text-align: right;\">  audi</th><th style=\"text-align: right;\">  audience</th><th style=\"text-align: right;\">  audio</th><th style=\"text-align: right;\">  auto</th><th style=\"text-align: right;\">  automobile</th><th style=\"text-align: right;\">  automotive</th><th style=\"text-align: right;\">  autumn</th><th style=\"text-align: right;\">  aviation</th><th style=\"text-align: right;\">  axle</th><th style=\"text-align: right;\">  azure</th><th style=\"text-align: right;\">  baby</th><th style=\"text-align: right;\">  backlighting</th><th style=\"text-align: right;\">  backyard</th><th style=\"text-align: right;\">  badminton</th><th style=\"text-align: right;\">  ball</th><th style=\"text-align: right;\">  ballet</th><th style=\"text-align: right;\">  balloon</th><th style=\"text-align: right;\">  bandy</th><th style=\"text-align: right;\">  banner</th><th style=\"text-align: right;\">  barbell</th><th style=\"text-align: right;\">  barechested</th><th style=\"text-align: right;\">  barware</th><th style=\"text-align: right;\">  basic</th><th style=\"text-align: right;\">  basketball</th><th style=\"text-align: right;\">  bat</th><th style=\"text-align: right;\">  beaker</th><th style=\"text-align: right;\">  beanie</th><th style=\"text-align: right;\">  beard</th><th style=\"text-align: right;\">  bearing</th><th style=\"text-align: right;\">  beater</th><th style=\"text-align: right;\">  beauty</th><th style=\"text-align: right;\">  beige</th><th style=\"text-align: right;\">  beverage</th><th style=\"text-align: right;\">  biathlon</th><th style=\"text-align: right;\">  bicycle</th><th style=\"text-align: right;\">  bike</th><th style=\"text-align: right;\">  biking</th><th style=\"text-align: right;\">  binding</th><th style=\"text-align: right;\">  birthday</th><th style=\"text-align: right;\">  black</th><th style=\"text-align: right;\">  blackboard</th><th style=\"text-align: right;\">  blazer</th><th style=\"text-align: right;\">  blended</th><th style=\"text-align: right;\">  blond</th><th style=\"text-align: right;\">  blue</th><th style=\"text-align: right;\">  bmw</th><th style=\"text-align: right;\">  bmx</th><th style=\"text-align: right;\">  boardsport</th><th style=\"text-align: right;\">  boat</th><th style=\"text-align: right;\">  boeing</th><th style=\"text-align: right;\">  book</th><th style=\"text-align: right;\">  boot</th><th style=\"text-align: right;\">  botany</th><th style=\"text-align: right;\">  bottle</th><th style=\"text-align: right;\">  bow</th><th style=\"text-align: right;\">  bowl</th><th style=\"text-align: right;\">  box</th><th style=\"text-align: right;\">  brand</th><th style=\"text-align: right;\">  brass</th><th style=\"text-align: right;\">  breaststroke</th><th style=\"text-align: right;\">  breed</th><th style=\"text-align: right;\">  bridal</th><th style=\"text-align: right;\">  bridle</th><th style=\"text-align: right;\">  brown</th><th style=\"text-align: right;\">  brushing</th><th style=\"text-align: right;\">  building</th><th style=\"text-align: right;\">  bumper</th><th style=\"text-align: right;\">  business</th><th style=\"text-align: right;\">  businessperson</th><th style=\"text-align: right;\">  butterfly</th><th style=\"text-align: right;\">  button</th><th style=\"text-align: right;\">  cable</th><th style=\"text-align: right;\">  cables</th><th style=\"text-align: right;\">  calendar</th><th style=\"text-align: right;\">  calf</th><th style=\"text-align: right;\">  calligraphy</th><th style=\"text-align: right;\">  camera</th><th style=\"text-align: right;\">  camouflage</th><th style=\"text-align: right;\">  canadian</th><th style=\"text-align: right;\">  canidae</th><th style=\"text-align: right;\">  car</th><th style=\"text-align: right;\">  care</th><th style=\"text-align: right;\">  carmine</th><th style=\"text-align: right;\">  carnivore</th><th style=\"text-align: right;\">  cartoon</th><th style=\"text-align: right;\">  ceiling</th><th style=\"text-align: right;\">  celebrating</th><th style=\"text-align: right;\">  center</th><th style=\"text-align: right;\">  cg</th><th style=\"text-align: right;\">  ch</th><th style=\"text-align: right;\">  champions</th><th style=\"text-align: right;\">  championship</th><th style=\"text-align: right;\">  character</th><th style=\"text-align: right;\">  cheek</th><th style=\"text-align: right;\">  cheering</th><th style=\"text-align: right;\">  chest</th><th style=\"text-align: right;\">  child</th><th style=\"text-align: right;\">  chin</th><th style=\"text-align: right;\">  chinook</th><th style=\"text-align: right;\">  cinematographer</th><th style=\"text-align: right;\">  circle</th><th style=\"text-align: right;\">  circuit</th><th style=\"text-align: right;\">  citro</th><th style=\"text-align: right;\">  citrus</th><th style=\"text-align: right;\">  city</th><th style=\"text-align: right;\">  cityscape</th><th style=\"text-align: right;\">  clap</th><th style=\"text-align: right;\">  class</th><th style=\"text-align: right;\">  classic</th><th style=\"text-align: right;\">  cleat</th><th style=\"text-align: right;\">  climbing</th><th style=\"text-align: right;\">  clip</th><th style=\"text-align: right;\">  clock</th><th style=\"text-align: right;\">  close</th><th style=\"text-align: right;\">  clothing</th><th style=\"text-align: right;\">  cloud</th><th style=\"text-align: right;\">  clutch</th><th style=\"text-align: right;\">  coach</th><th style=\"text-align: right;\">  cobalt</th><th style=\"text-align: right;\">  cocktail</th><th style=\"text-align: right;\">  collar</th><th style=\"text-align: right;\">  college</th><th style=\"text-align: right;\">  collision</th><th style=\"text-align: right;\">  colorfulness</th><th style=\"text-align: right;\">  coloring</th><th style=\"text-align: right;\">  combat</th><th style=\"text-align: right;\">  commercial</th><th style=\"text-align: right;\">  commissioned</th><th style=\"text-align: right;\">  communication</th><th style=\"text-align: right;\">  communications</th><th style=\"text-align: right;\">  community</th><th style=\"text-align: right;\">  compact</th><th style=\"text-align: right;\">  companion</th><th style=\"text-align: right;\">  competition</th><th style=\"text-align: right;\">  component</th><th style=\"text-align: right;\">  compositing</th><th style=\"text-align: right;\">  computer</th><th style=\"text-align: right;\">  concept</th><th style=\"text-align: right;\">  confetti</th><th style=\"text-align: right;\">  congestion</th><th style=\"text-align: right;\">  console</th><th style=\"text-align: right;\">  convertible</th><th style=\"text-align: right;\">  cook</th><th style=\"text-align: right;\">  cool</th><th style=\"text-align: right;\">  cosmetics</th><th style=\"text-align: right;\">  costume</th><th style=\"text-align: right;\">  cotton</th><th style=\"text-align: right;\">  country</th><th style=\"text-align: right;\">  coup</th></tr>\n",
       "</thead>\n",
       "<tbody>\n",
       "<tr><td style=\"text-align: right;\">   0</td><td style=\"text-align: right;\">   0</td><td style=\"text-align: right;\">        0</td><td style=\"text-align: right;\">          0</td><td style=\"text-align: right;\">          0</td><td style=\"text-align: right;\">       0</td><td style=\"text-align: right;\">       0</td><td style=\"text-align: right;\">           0</td><td style=\"text-align: right;\">          0</td><td style=\"text-align: right;\">            0</td><td style=\"text-align: right;\">          0</td><td style=\"text-align: right;\">     0</td><td style=\"text-align: right;\">           0</td><td style=\"text-align: right;\">    0</td><td style=\"text-align: right;\">         0</td><td style=\"text-align: right;\">       0</td><td style=\"text-align: right;\">         0</td><td style=\"text-align: right;\">      0</td><td style=\"text-align: right;\">          0</td><td style=\"text-align: right;\">      0</td><td style=\"text-align: right;\">       0</td><td style=\"text-align: right;\">      0</td><td style=\"text-align: right;\">         0</td><td style=\"text-align: right;\">          0</td><td style=\"text-align: right;\">       0</td><td style=\"text-align: right;\">         0</td><td style=\"text-align: right;\">          0</td><td style=\"text-align: right;\">      0</td><td style=\"text-align: right;\">          0</td><td style=\"text-align: right;\">     0</td><td style=\"text-align: right;\">        0</td><td style=\"text-align: right;\">             0</td><td style=\"text-align: right;\">     0</td><td style=\"text-align: right;\">      0</td><td style=\"text-align: right;\">    0</td><td style=\"text-align: right;\">     0</td><td style=\"text-align: right;\">      0</td><td style=\"text-align: right;\">    0</td><td style=\"text-align: right;\">           0</td><td style=\"text-align: right;\">       0</td><td style=\"text-align: right;\">     0</td><td style=\"text-align: right;\">        0</td><td style=\"text-align: right;\">        0</td><td style=\"text-align: right;\">         0</td><td style=\"text-align: right;\">      1</td><td style=\"text-align: right;\">        0</td><td style=\"text-align: right;\">         0</td><td style=\"text-align: right;\">          0</td><td style=\"text-align: right;\">      0</td><td style=\"text-align: right;\">           0</td><td style=\"text-align: right;\">            0</td><td style=\"text-align: right;\">     0</td><td style=\"text-align: right;\">         0</td><td style=\"text-align: right;\">      0</td><td style=\"text-align: right;\">     0</td><td style=\"text-align: right;\">           0</td><td style=\"text-align: right;\">           1</td><td style=\"text-align: right;\">       0</td><td style=\"text-align: right;\">         0</td><td style=\"text-align: right;\">     0</td><td style=\"text-align: right;\">      0</td><td style=\"text-align: right;\">     0</td><td style=\"text-align: right;\">             0</td><td style=\"text-align: right;\">         0</td><td style=\"text-align: right;\">          0</td><td style=\"text-align: right;\">     0</td><td style=\"text-align: right;\">       0</td><td style=\"text-align: right;\">        0</td><td style=\"text-align: right;\">      0</td><td style=\"text-align: right;\">       0</td><td style=\"text-align: right;\">        0</td><td style=\"text-align: right;\">            0</td><td style=\"text-align: right;\">        0</td><td style=\"text-align: right;\">      0</td><td style=\"text-align: right;\">           0</td><td style=\"text-align: right;\">    0</td><td style=\"text-align: right;\">       0</td><td style=\"text-align: right;\">       0</td><td style=\"text-align: right;\">      0</td><td style=\"text-align: right;\">        0</td><td style=\"text-align: right;\">       0</td><td style=\"text-align: right;\">       0</td><td style=\"text-align: right;\">      0</td><td style=\"text-align: right;\">         0</td><td style=\"text-align: right;\">         0</td><td style=\"text-align: right;\">        0</td><td style=\"text-align: right;\">     0</td><td style=\"text-align: right;\">       0</td><td style=\"text-align: right;\">        0</td><td style=\"text-align: right;\">         0</td><td style=\"text-align: right;\">      0</td><td style=\"text-align: right;\">           0</td><td style=\"text-align: right;\">       0</td><td style=\"text-align: right;\">        0</td><td style=\"text-align: right;\">      0</td><td style=\"text-align: right;\">     0</td><td style=\"text-align: right;\">    0</td><td style=\"text-align: right;\">    0</td><td style=\"text-align: right;\">           0</td><td style=\"text-align: right;\">     0</td><td style=\"text-align: right;\">       0</td><td style=\"text-align: right;\">     0</td><td style=\"text-align: right;\">     0</td><td style=\"text-align: right;\">       0</td><td style=\"text-align: right;\">       0</td><td style=\"text-align: right;\">    0</td><td style=\"text-align: right;\">     0</td><td style=\"text-align: right;\">    0</td><td style=\"text-align: right;\">      0</td><td style=\"text-align: right;\">      0</td><td style=\"text-align: right;\">             0</td><td style=\"text-align: right;\">      0</td><td style=\"text-align: right;\">       0</td><td style=\"text-align: right;\">       0</td><td style=\"text-align: right;\">      0</td><td style=\"text-align: right;\">         0</td><td style=\"text-align: right;\">         0</td><td style=\"text-align: right;\">       0</td><td style=\"text-align: right;\">         0</td><td style=\"text-align: right;\">               0</td><td style=\"text-align: right;\">          0</td><td style=\"text-align: right;\">       0</td><td style=\"text-align: right;\">      0</td><td style=\"text-align: right;\">       0</td><td style=\"text-align: right;\">         0</td><td style=\"text-align: right;\">     0</td><td style=\"text-align: right;\">            0</td><td style=\"text-align: right;\">       0</td><td style=\"text-align: right;\">           0</td><td style=\"text-align: right;\">         0</td><td style=\"text-align: right;\">        0</td><td style=\"text-align: right;\">    3</td><td style=\"text-align: right;\">     0</td><td style=\"text-align: right;\">        0</td><td style=\"text-align: right;\">          0</td><td style=\"text-align: right;\">        0</td><td style=\"text-align: right;\">        0</td><td style=\"text-align: right;\">            0</td><td style=\"text-align: right;\">       0</td><td style=\"text-align: right;\">   0</td><td style=\"text-align: right;\">   0</td><td style=\"text-align: right;\">          0</td><td style=\"text-align: right;\">             0</td><td style=\"text-align: right;\">          0</td><td style=\"text-align: right;\">      0</td><td style=\"text-align: right;\">         0</td><td style=\"text-align: right;\">      0</td><td style=\"text-align: right;\">      0</td><td style=\"text-align: right;\">     0</td><td style=\"text-align: right;\">        0</td><td style=\"text-align: right;\">                0</td><td style=\"text-align: right;\">       0</td><td style=\"text-align: right;\">        0</td><td style=\"text-align: right;\">      0</td><td style=\"text-align: right;\">       0</td><td style=\"text-align: right;\">     0</td><td style=\"text-align: right;\">          0</td><td style=\"text-align: right;\">     0</td><td style=\"text-align: right;\">      0</td><td style=\"text-align: right;\">        0</td><td style=\"text-align: right;\">      0</td><td style=\"text-align: right;\">         0</td><td style=\"text-align: right;\">     0</td><td style=\"text-align: right;\">      0</td><td style=\"text-align: right;\">      0</td><td style=\"text-align: right;\">         0</td><td style=\"text-align: right;\">      0</td><td style=\"text-align: right;\">       0</td><td style=\"text-align: right;\">      0</td><td style=\"text-align: right;\">       0</td><td style=\"text-align: right;\">         0</td><td style=\"text-align: right;\">       0</td><td style=\"text-align: right;\">        0</td><td style=\"text-align: right;\">          0</td><td style=\"text-align: right;\">             0</td><td style=\"text-align: right;\">         0</td><td style=\"text-align: right;\">       0</td><td style=\"text-align: right;\">           0</td><td style=\"text-align: right;\">             0</td><td style=\"text-align: right;\">              0</td><td style=\"text-align: right;\">               0</td><td style=\"text-align: right;\">          0</td><td style=\"text-align: right;\">        0</td><td style=\"text-align: right;\">          0</td><td style=\"text-align: right;\">            0</td><td style=\"text-align: right;\">          0</td><td style=\"text-align: right;\">            0</td><td style=\"text-align: right;\">         0</td><td style=\"text-align: right;\">        0</td><td style=\"text-align: right;\">         0</td><td style=\"text-align: right;\">           0</td><td style=\"text-align: right;\">        0</td><td style=\"text-align: right;\">            0</td><td style=\"text-align: right;\">     0</td><td style=\"text-align: right;\">     0</td><td style=\"text-align: right;\">          0</td><td style=\"text-align: right;\">        0</td><td style=\"text-align: right;\">       0</td><td style=\"text-align: right;\">        0</td><td style=\"text-align: right;\">     1</td></tr>\n",
       "<tr><td style=\"text-align: right;\">   0</td><td style=\"text-align: right;\">   0</td><td style=\"text-align: right;\">        0</td><td style=\"text-align: right;\">          0</td><td style=\"text-align: right;\">          0</td><td style=\"text-align: right;\">       0</td><td style=\"text-align: right;\">       0</td><td style=\"text-align: right;\">           0</td><td style=\"text-align: right;\">          0</td><td style=\"text-align: right;\">            0</td><td style=\"text-align: right;\">          0</td><td style=\"text-align: right;\">     0</td><td style=\"text-align: right;\">           0</td><td style=\"text-align: right;\">    0</td><td style=\"text-align: right;\">         0</td><td style=\"text-align: right;\">       0</td><td style=\"text-align: right;\">         0</td><td style=\"text-align: right;\">      0</td><td style=\"text-align: right;\">          0</td><td style=\"text-align: right;\">      0</td><td style=\"text-align: right;\">       0</td><td style=\"text-align: right;\">      0</td><td style=\"text-align: right;\">         0</td><td style=\"text-align: right;\">          0</td><td style=\"text-align: right;\">       0</td><td style=\"text-align: right;\">         0</td><td style=\"text-align: right;\">          0</td><td style=\"text-align: right;\">      0</td><td style=\"text-align: right;\">          0</td><td style=\"text-align: right;\">     0</td><td style=\"text-align: right;\">        0</td><td style=\"text-align: right;\">             0</td><td style=\"text-align: right;\">     0</td><td style=\"text-align: right;\">      0</td><td style=\"text-align: right;\">    0</td><td style=\"text-align: right;\">     0</td><td style=\"text-align: right;\">      0</td><td style=\"text-align: right;\">    0</td><td style=\"text-align: right;\">           0</td><td style=\"text-align: right;\">       0</td><td style=\"text-align: right;\">     0</td><td style=\"text-align: right;\">        0</td><td style=\"text-align: right;\">        0</td><td style=\"text-align: right;\">         0</td><td style=\"text-align: right;\">      0</td><td style=\"text-align: right;\">        0</td><td style=\"text-align: right;\">         0</td><td style=\"text-align: right;\">          0</td><td style=\"text-align: right;\">      0</td><td style=\"text-align: right;\">           0</td><td style=\"text-align: right;\">            0</td><td style=\"text-align: right;\">     0</td><td style=\"text-align: right;\">         0</td><td style=\"text-align: right;\">      0</td><td style=\"text-align: right;\">     0</td><td style=\"text-align: right;\">           0</td><td style=\"text-align: right;\">           1</td><td style=\"text-align: right;\">       0</td><td style=\"text-align: right;\">         0</td><td style=\"text-align: right;\">     0</td><td style=\"text-align: right;\">      0</td><td style=\"text-align: right;\">     0</td><td style=\"text-align: right;\">             0</td><td style=\"text-align: right;\">         0</td><td style=\"text-align: right;\">          0</td><td style=\"text-align: right;\">     0</td><td style=\"text-align: right;\">       0</td><td style=\"text-align: right;\">        0</td><td style=\"text-align: right;\">      0</td><td style=\"text-align: right;\">       0</td><td style=\"text-align: right;\">        0</td><td style=\"text-align: right;\">            0</td><td style=\"text-align: right;\">        0</td><td style=\"text-align: right;\">      0</td><td style=\"text-align: right;\">           0</td><td style=\"text-align: right;\">    0</td><td style=\"text-align: right;\">       0</td><td style=\"text-align: right;\">       0</td><td style=\"text-align: right;\">      0</td><td style=\"text-align: right;\">        0</td><td style=\"text-align: right;\">       0</td><td style=\"text-align: right;\">       0</td><td style=\"text-align: right;\">      0</td><td style=\"text-align: right;\">         0</td><td style=\"text-align: right;\">         0</td><td style=\"text-align: right;\">        0</td><td style=\"text-align: right;\">     0</td><td style=\"text-align: right;\">       0</td><td style=\"text-align: right;\">        0</td><td style=\"text-align: right;\">         0</td><td style=\"text-align: right;\">      0</td><td style=\"text-align: right;\">           0</td><td style=\"text-align: right;\">       0</td><td style=\"text-align: right;\">        0</td><td style=\"text-align: right;\">      0</td><td style=\"text-align: right;\">     0</td><td style=\"text-align: right;\">    0</td><td style=\"text-align: right;\">    0</td><td style=\"text-align: right;\">           0</td><td style=\"text-align: right;\">     0</td><td style=\"text-align: right;\">       0</td><td style=\"text-align: right;\">     0</td><td style=\"text-align: right;\">     0</td><td style=\"text-align: right;\">       0</td><td style=\"text-align: right;\">       0</td><td style=\"text-align: right;\">    0</td><td style=\"text-align: right;\">     0</td><td style=\"text-align: right;\">    0</td><td style=\"text-align: right;\">      0</td><td style=\"text-align: right;\">      0</td><td style=\"text-align: right;\">             0</td><td style=\"text-align: right;\">      0</td><td style=\"text-align: right;\">       0</td><td style=\"text-align: right;\">       0</td><td style=\"text-align: right;\">      0</td><td style=\"text-align: right;\">         0</td><td style=\"text-align: right;\">         0</td><td style=\"text-align: right;\">       0</td><td style=\"text-align: right;\">         0</td><td style=\"text-align: right;\">               0</td><td style=\"text-align: right;\">          0</td><td style=\"text-align: right;\">       0</td><td style=\"text-align: right;\">      0</td><td style=\"text-align: right;\">       0</td><td style=\"text-align: right;\">         0</td><td style=\"text-align: right;\">     0</td><td style=\"text-align: right;\">            0</td><td style=\"text-align: right;\">       0</td><td style=\"text-align: right;\">           0</td><td style=\"text-align: right;\">         0</td><td style=\"text-align: right;\">        0</td><td style=\"text-align: right;\">    7</td><td style=\"text-align: right;\">     0</td><td style=\"text-align: right;\">        0</td><td style=\"text-align: right;\">          0</td><td style=\"text-align: right;\">        0</td><td style=\"text-align: right;\">        0</td><td style=\"text-align: right;\">            0</td><td style=\"text-align: right;\">       0</td><td style=\"text-align: right;\">   0</td><td style=\"text-align: right;\">   0</td><td style=\"text-align: right;\">          0</td><td style=\"text-align: right;\">             0</td><td style=\"text-align: right;\">          0</td><td style=\"text-align: right;\">      0</td><td style=\"text-align: right;\">         0</td><td style=\"text-align: right;\">      0</td><td style=\"text-align: right;\">      0</td><td style=\"text-align: right;\">     0</td><td style=\"text-align: right;\">        0</td><td style=\"text-align: right;\">                0</td><td style=\"text-align: right;\">       0</td><td style=\"text-align: right;\">        0</td><td style=\"text-align: right;\">      0</td><td style=\"text-align: right;\">       0</td><td style=\"text-align: right;\">     0</td><td style=\"text-align: right;\">          0</td><td style=\"text-align: right;\">     0</td><td style=\"text-align: right;\">      0</td><td style=\"text-align: right;\">        0</td><td style=\"text-align: right;\">      0</td><td style=\"text-align: right;\">         0</td><td style=\"text-align: right;\">     0</td><td style=\"text-align: right;\">      0</td><td style=\"text-align: right;\">      0</td><td style=\"text-align: right;\">         0</td><td style=\"text-align: right;\">      0</td><td style=\"text-align: right;\">       0</td><td style=\"text-align: right;\">      0</td><td style=\"text-align: right;\">       0</td><td style=\"text-align: right;\">         0</td><td style=\"text-align: right;\">       0</td><td style=\"text-align: right;\">        0</td><td style=\"text-align: right;\">          0</td><td style=\"text-align: right;\">             0</td><td style=\"text-align: right;\">         0</td><td style=\"text-align: right;\">       0</td><td style=\"text-align: right;\">           0</td><td style=\"text-align: right;\">             0</td><td style=\"text-align: right;\">              0</td><td style=\"text-align: right;\">               0</td><td style=\"text-align: right;\">          0</td><td style=\"text-align: right;\">        0</td><td style=\"text-align: right;\">          0</td><td style=\"text-align: right;\">            0</td><td style=\"text-align: right;\">          0</td><td style=\"text-align: right;\">            0</td><td style=\"text-align: right;\">         0</td><td style=\"text-align: right;\">        1</td><td style=\"text-align: right;\">         0</td><td style=\"text-align: right;\">           0</td><td style=\"text-align: right;\">        0</td><td style=\"text-align: right;\">            0</td><td style=\"text-align: right;\">     0</td><td style=\"text-align: right;\">     0</td><td style=\"text-align: right;\">          0</td><td style=\"text-align: right;\">        0</td><td style=\"text-align: right;\">       0</td><td style=\"text-align: right;\">        0</td><td style=\"text-align: right;\">     0</td></tr>\n",
       "<tr><td style=\"text-align: right;\">   0</td><td style=\"text-align: right;\">   0</td><td style=\"text-align: right;\">        0</td><td style=\"text-align: right;\">          0</td><td style=\"text-align: right;\">          0</td><td style=\"text-align: right;\">       0</td><td style=\"text-align: right;\">       0</td><td style=\"text-align: right;\">           0</td><td style=\"text-align: right;\">          0</td><td style=\"text-align: right;\">            0</td><td style=\"text-align: right;\">          0</td><td style=\"text-align: right;\">     0</td><td style=\"text-align: right;\">           0</td><td style=\"text-align: right;\">    0</td><td style=\"text-align: right;\">         0</td><td style=\"text-align: right;\">       0</td><td style=\"text-align: right;\">         0</td><td style=\"text-align: right;\">      0</td><td style=\"text-align: right;\">          0</td><td style=\"text-align: right;\">      0</td><td style=\"text-align: right;\">       0</td><td style=\"text-align: right;\">      0</td><td style=\"text-align: right;\">         0</td><td style=\"text-align: right;\">          0</td><td style=\"text-align: right;\">       0</td><td style=\"text-align: right;\">         0</td><td style=\"text-align: right;\">          0</td><td style=\"text-align: right;\">      0</td><td style=\"text-align: right;\">          0</td><td style=\"text-align: right;\">     0</td><td style=\"text-align: right;\">        0</td><td style=\"text-align: right;\">             0</td><td style=\"text-align: right;\">     0</td><td style=\"text-align: right;\">      0</td><td style=\"text-align: right;\">    0</td><td style=\"text-align: right;\">     0</td><td style=\"text-align: right;\">      0</td><td style=\"text-align: right;\">    0</td><td style=\"text-align: right;\">           0</td><td style=\"text-align: right;\">       0</td><td style=\"text-align: right;\">     0</td><td style=\"text-align: right;\">        0</td><td style=\"text-align: right;\">        0</td><td style=\"text-align: right;\">         0</td><td style=\"text-align: right;\">      0</td><td style=\"text-align: right;\">        0</td><td style=\"text-align: right;\">         0</td><td style=\"text-align: right;\">          0</td><td style=\"text-align: right;\">      0</td><td style=\"text-align: right;\">           0</td><td style=\"text-align: right;\">            0</td><td style=\"text-align: right;\">     0</td><td style=\"text-align: right;\">         0</td><td style=\"text-align: right;\">      0</td><td style=\"text-align: right;\">     0</td><td style=\"text-align: right;\">           0</td><td style=\"text-align: right;\">           1</td><td style=\"text-align: right;\">       0</td><td style=\"text-align: right;\">         0</td><td style=\"text-align: right;\">     0</td><td style=\"text-align: right;\">      0</td><td style=\"text-align: right;\">     0</td><td style=\"text-align: right;\">             0</td><td style=\"text-align: right;\">         0</td><td style=\"text-align: right;\">          0</td><td style=\"text-align: right;\">     0</td><td style=\"text-align: right;\">       0</td><td style=\"text-align: right;\">        0</td><td style=\"text-align: right;\">      0</td><td style=\"text-align: right;\">       0</td><td style=\"text-align: right;\">        0</td><td style=\"text-align: right;\">            0</td><td style=\"text-align: right;\">        0</td><td style=\"text-align: right;\">      0</td><td style=\"text-align: right;\">           0</td><td style=\"text-align: right;\">    0</td><td style=\"text-align: right;\">       0</td><td style=\"text-align: right;\">       0</td><td style=\"text-align: right;\">      0</td><td style=\"text-align: right;\">        0</td><td style=\"text-align: right;\">       0</td><td style=\"text-align: right;\">       0</td><td style=\"text-align: right;\">      0</td><td style=\"text-align: right;\">         0</td><td style=\"text-align: right;\">         0</td><td style=\"text-align: right;\">        0</td><td style=\"text-align: right;\">     0</td><td style=\"text-align: right;\">       0</td><td style=\"text-align: right;\">        0</td><td style=\"text-align: right;\">         0</td><td style=\"text-align: right;\">      0</td><td style=\"text-align: right;\">           0</td><td style=\"text-align: right;\">       0</td><td style=\"text-align: right;\">        0</td><td style=\"text-align: right;\">      0</td><td style=\"text-align: right;\">     0</td><td style=\"text-align: right;\">    1</td><td style=\"text-align: right;\">    0</td><td style=\"text-align: right;\">           0</td><td style=\"text-align: right;\">     0</td><td style=\"text-align: right;\">       0</td><td style=\"text-align: right;\">     0</td><td style=\"text-align: right;\">     0</td><td style=\"text-align: right;\">       0</td><td style=\"text-align: right;\">       0</td><td style=\"text-align: right;\">    0</td><td style=\"text-align: right;\">     0</td><td style=\"text-align: right;\">    0</td><td style=\"text-align: right;\">      0</td><td style=\"text-align: right;\">      0</td><td style=\"text-align: right;\">             0</td><td style=\"text-align: right;\">      0</td><td style=\"text-align: right;\">       0</td><td style=\"text-align: right;\">       0</td><td style=\"text-align: right;\">      0</td><td style=\"text-align: right;\">         0</td><td style=\"text-align: right;\">         0</td><td style=\"text-align: right;\">       0</td><td style=\"text-align: right;\">         0</td><td style=\"text-align: right;\">               0</td><td style=\"text-align: right;\">          0</td><td style=\"text-align: right;\">       0</td><td style=\"text-align: right;\">      0</td><td style=\"text-align: right;\">       0</td><td style=\"text-align: right;\">         0</td><td style=\"text-align: right;\">     0</td><td style=\"text-align: right;\">            0</td><td style=\"text-align: right;\">       0</td><td style=\"text-align: right;\">           0</td><td style=\"text-align: right;\">         0</td><td style=\"text-align: right;\">        0</td><td style=\"text-align: right;\">    4</td><td style=\"text-align: right;\">     0</td><td style=\"text-align: right;\">        0</td><td style=\"text-align: right;\">          0</td><td style=\"text-align: right;\">        0</td><td style=\"text-align: right;\">        0</td><td style=\"text-align: right;\">            0</td><td style=\"text-align: right;\">       0</td><td style=\"text-align: right;\">   0</td><td style=\"text-align: right;\">   0</td><td style=\"text-align: right;\">          0</td><td style=\"text-align: right;\">             0</td><td style=\"text-align: right;\">          0</td><td style=\"text-align: right;\">      0</td><td style=\"text-align: right;\">         0</td><td style=\"text-align: right;\">      0</td><td style=\"text-align: right;\">      0</td><td style=\"text-align: right;\">     0</td><td style=\"text-align: right;\">        0</td><td style=\"text-align: right;\">                0</td><td style=\"text-align: right;\">       0</td><td style=\"text-align: right;\">        0</td><td style=\"text-align: right;\">      0</td><td style=\"text-align: right;\">       0</td><td style=\"text-align: right;\">     0</td><td style=\"text-align: right;\">          0</td><td style=\"text-align: right;\">     0</td><td style=\"text-align: right;\">      0</td><td style=\"text-align: right;\">        0</td><td style=\"text-align: right;\">      0</td><td style=\"text-align: right;\">         0</td><td style=\"text-align: right;\">     0</td><td style=\"text-align: right;\">      0</td><td style=\"text-align: right;\">      0</td><td style=\"text-align: right;\">         0</td><td style=\"text-align: right;\">      0</td><td style=\"text-align: right;\">       0</td><td style=\"text-align: right;\">      0</td><td style=\"text-align: right;\">       0</td><td style=\"text-align: right;\">         0</td><td style=\"text-align: right;\">       0</td><td style=\"text-align: right;\">        0</td><td style=\"text-align: right;\">          0</td><td style=\"text-align: right;\">             0</td><td style=\"text-align: right;\">         0</td><td style=\"text-align: right;\">       0</td><td style=\"text-align: right;\">           0</td><td style=\"text-align: right;\">             0</td><td style=\"text-align: right;\">              0</td><td style=\"text-align: right;\">               0</td><td style=\"text-align: right;\">          0</td><td style=\"text-align: right;\">        0</td><td style=\"text-align: right;\">          0</td><td style=\"text-align: right;\">            0</td><td style=\"text-align: right;\">          0</td><td style=\"text-align: right;\">            0</td><td style=\"text-align: right;\">         0</td><td style=\"text-align: right;\">        0</td><td style=\"text-align: right;\">         0</td><td style=\"text-align: right;\">           0</td><td style=\"text-align: right;\">        0</td><td style=\"text-align: right;\">            0</td><td style=\"text-align: right;\">     0</td><td style=\"text-align: right;\">     0</td><td style=\"text-align: right;\">          0</td><td style=\"text-align: right;\">        0</td><td style=\"text-align: right;\">       0</td><td style=\"text-align: right;\">        0</td><td style=\"text-align: right;\">     0</td></tr>\n",
       "</tbody>\n",
       "</table>"
      ]
     },
     "metadata": {},
     "output_type": "display_data"
    },
    {
     "data": {
      "text/plain": []
     },
     "execution_count": 65,
     "metadata": {},
     "output_type": "execute_result"
    }
   ],
   "source": [
    "data.head(3)"
   ]
  },
  {
   "cell_type": "markdown",
   "metadata": {},
   "source": [
    "## Train first model"
   ]
  },
  {
   "cell_type": "code",
   "execution_count": 66,
   "metadata": {
    "collapsed": true
   },
   "outputs": [],
   "source": [
    "# split data\n",
    "\n",
    "splits = data.split_frame([0.9], seed = 1)\n",
    "train = splits[0]\n",
    "test = splits[1]\n",
    "\n",
    "predictors = data.col_names[:-1]\n",
    "response = \"category\""
   ]
  },
  {
   "cell_type": "code",
   "execution_count": 67,
   "metadata": {
    "collapsed": true
   },
   "outputs": [],
   "source": [
    "gbm_model = H2ORandomForestEstimator(distribution=\"multinomial\")"
   ]
  },
  {
   "cell_type": "code",
   "execution_count": 68,
   "metadata": {},
   "outputs": [
    {
     "name": "stdout",
     "output_type": "stream",
     "text": [
      "drf Model Build progress: |███████████████████████████████████████████████| 100%\n"
     ]
    }
   ],
   "source": [
    "gbm_model.train(predictors, response, training_frame=train)"
   ]
  },
  {
   "cell_type": "code",
   "execution_count": 69,
   "metadata": {},
   "outputs": [
    {
     "data": {
      "text/html": [
       "<div>\n",
       "<style>\n",
       "    .dataframe thead tr:only-child th {\n",
       "        text-align: right;\n",
       "    }\n",
       "\n",
       "    .dataframe thead th {\n",
       "        text-align: left;\n",
       "    }\n",
       "\n",
       "    .dataframe tbody tr th {\n",
       "        vertical-align: top;\n",
       "    }\n",
       "</style>\n",
       "<table border=\"1\" class=\"dataframe\">\n",
       "  <thead>\n",
       "    <tr style=\"text-align: right;\">\n",
       "      <th></th>\n",
       "      <th></th>\n",
       "      <th>number_of_trees</th>\n",
       "      <th>number_of_internal_trees</th>\n",
       "      <th>model_size_in_bytes</th>\n",
       "      <th>min_depth</th>\n",
       "      <th>max_depth</th>\n",
       "      <th>mean_depth</th>\n",
       "      <th>min_leaves</th>\n",
       "      <th>max_leaves</th>\n",
       "      <th>mean_leaves</th>\n",
       "    </tr>\n",
       "  </thead>\n",
       "  <tbody>\n",
       "    <tr>\n",
       "      <th>0</th>\n",
       "      <td></td>\n",
       "      <td>50.0</td>\n",
       "      <td>500.0</td>\n",
       "      <td>224178.0</td>\n",
       "      <td>1.0</td>\n",
       "      <td>20.0</td>\n",
       "      <td>17.036</td>\n",
       "      <td>2.0</td>\n",
       "      <td>66.0</td>\n",
       "      <td>30.024</td>\n",
       "    </tr>\n",
       "  </tbody>\n",
       "</table>\n",
       "</div>"
      ],
      "text/plain": [
       "     number_of_trees  number_of_internal_trees  model_size_in_bytes  \\\n",
       "0               50.0                     500.0             224178.0   \n",
       "\n",
       "   min_depth  max_depth  mean_depth  min_leaves  max_leaves  mean_leaves  \n",
       "0        1.0       20.0      17.036         2.0        66.0       30.024  "
      ]
     },
     "execution_count": 69,
     "metadata": {},
     "output_type": "execute_result"
    }
   ],
   "source": [
    "gbm_model.summary().as_data_frame()"
   ]
  },
  {
   "cell_type": "code",
   "execution_count": 70,
   "metadata": {},
   "outputs": [
    {
     "data": {
      "text/html": [
       "<div>\n",
       "<style>\n",
       "    .dataframe thead tr:only-child th {\n",
       "        text-align: right;\n",
       "    }\n",
       "\n",
       "    .dataframe thead th {\n",
       "        text-align: left;\n",
       "    }\n",
       "\n",
       "    .dataframe tbody tr th {\n",
       "        vertical-align: top;\n",
       "    }\n",
       "</style>\n",
       "<table border=\"1\" class=\"dataframe\">\n",
       "  <thead>\n",
       "    <tr style=\"text-align: right;\">\n",
       "      <th></th>\n",
       "      <th>automotive</th>\n",
       "      <th>beauty</th>\n",
       "      <th>digital_electronics</th>\n",
       "      <th>kids</th>\n",
       "      <th>man</th>\n",
       "      <th>military</th>\n",
       "      <th>perfumes</th>\n",
       "      <th>shoes</th>\n",
       "      <th>sport</th>\n",
       "      <th>woman</th>\n",
       "      <th>Error</th>\n",
       "      <th>Rate</th>\n",
       "    </tr>\n",
       "  </thead>\n",
       "  <tbody>\n",
       "    <tr>\n",
       "      <th>0</th>\n",
       "      <td>8.0</td>\n",
       "      <td>0.0</td>\n",
       "      <td>0.0</td>\n",
       "      <td>0.0</td>\n",
       "      <td>0.0</td>\n",
       "      <td>0.0</td>\n",
       "      <td>0.0</td>\n",
       "      <td>0.0</td>\n",
       "      <td>0.0</td>\n",
       "      <td>0.0</td>\n",
       "      <td>0.000000</td>\n",
       "      <td>0 / 8</td>\n",
       "    </tr>\n",
       "    <tr>\n",
       "      <th>1</th>\n",
       "      <td>0.0</td>\n",
       "      <td>8.0</td>\n",
       "      <td>0.0</td>\n",
       "      <td>0.0</td>\n",
       "      <td>1.0</td>\n",
       "      <td>0.0</td>\n",
       "      <td>0.0</td>\n",
       "      <td>0.0</td>\n",
       "      <td>0.0</td>\n",
       "      <td>1.0</td>\n",
       "      <td>0.200000</td>\n",
       "      <td>2 / 10</td>\n",
       "    </tr>\n",
       "    <tr>\n",
       "      <th>2</th>\n",
       "      <td>0.0</td>\n",
       "      <td>0.0</td>\n",
       "      <td>12.0</td>\n",
       "      <td>0.0</td>\n",
       "      <td>0.0</td>\n",
       "      <td>0.0</td>\n",
       "      <td>0.0</td>\n",
       "      <td>0.0</td>\n",
       "      <td>0.0</td>\n",
       "      <td>0.0</td>\n",
       "      <td>0.000000</td>\n",
       "      <td>0 / 12</td>\n",
       "    </tr>\n",
       "    <tr>\n",
       "      <th>3</th>\n",
       "      <td>0.0</td>\n",
       "      <td>0.0</td>\n",
       "      <td>0.0</td>\n",
       "      <td>5.0</td>\n",
       "      <td>0.0</td>\n",
       "      <td>0.0</td>\n",
       "      <td>0.0</td>\n",
       "      <td>0.0</td>\n",
       "      <td>1.0</td>\n",
       "      <td>1.0</td>\n",
       "      <td>0.285714</td>\n",
       "      <td>2 / 7</td>\n",
       "    </tr>\n",
       "    <tr>\n",
       "      <th>4</th>\n",
       "      <td>0.0</td>\n",
       "      <td>0.0</td>\n",
       "      <td>0.0</td>\n",
       "      <td>0.0</td>\n",
       "      <td>7.0</td>\n",
       "      <td>0.0</td>\n",
       "      <td>0.0</td>\n",
       "      <td>0.0</td>\n",
       "      <td>0.0</td>\n",
       "      <td>0.0</td>\n",
       "      <td>0.000000</td>\n",
       "      <td>0 / 7</td>\n",
       "    </tr>\n",
       "    <tr>\n",
       "      <th>5</th>\n",
       "      <td>0.0</td>\n",
       "      <td>0.0</td>\n",
       "      <td>0.0</td>\n",
       "      <td>0.0</td>\n",
       "      <td>0.0</td>\n",
       "      <td>7.0</td>\n",
       "      <td>0.0</td>\n",
       "      <td>0.0</td>\n",
       "      <td>0.0</td>\n",
       "      <td>0.0</td>\n",
       "      <td>0.000000</td>\n",
       "      <td>0 / 7</td>\n",
       "    </tr>\n",
       "    <tr>\n",
       "      <th>6</th>\n",
       "      <td>0.0</td>\n",
       "      <td>0.0</td>\n",
       "      <td>0.0</td>\n",
       "      <td>0.0</td>\n",
       "      <td>0.0</td>\n",
       "      <td>0.0</td>\n",
       "      <td>4.0</td>\n",
       "      <td>0.0</td>\n",
       "      <td>0.0</td>\n",
       "      <td>0.0</td>\n",
       "      <td>0.000000</td>\n",
       "      <td>0 / 4</td>\n",
       "    </tr>\n",
       "    <tr>\n",
       "      <th>7</th>\n",
       "      <td>0.0</td>\n",
       "      <td>0.0</td>\n",
       "      <td>0.0</td>\n",
       "      <td>0.0</td>\n",
       "      <td>0.0</td>\n",
       "      <td>0.0</td>\n",
       "      <td>0.0</td>\n",
       "      <td>18.0</td>\n",
       "      <td>0.0</td>\n",
       "      <td>0.0</td>\n",
       "      <td>0.000000</td>\n",
       "      <td>0 / 18</td>\n",
       "    </tr>\n",
       "    <tr>\n",
       "      <th>8</th>\n",
       "      <td>1.0</td>\n",
       "      <td>0.0</td>\n",
       "      <td>0.0</td>\n",
       "      <td>0.0</td>\n",
       "      <td>0.0</td>\n",
       "      <td>0.0</td>\n",
       "      <td>0.0</td>\n",
       "      <td>0.0</td>\n",
       "      <td>7.0</td>\n",
       "      <td>0.0</td>\n",
       "      <td>0.125000</td>\n",
       "      <td>1 / 8</td>\n",
       "    </tr>\n",
       "    <tr>\n",
       "      <th>9</th>\n",
       "      <td>0.0</td>\n",
       "      <td>2.0</td>\n",
       "      <td>0.0</td>\n",
       "      <td>1.0</td>\n",
       "      <td>1.0</td>\n",
       "      <td>0.0</td>\n",
       "      <td>0.0</td>\n",
       "      <td>0.0</td>\n",
       "      <td>0.0</td>\n",
       "      <td>4.0</td>\n",
       "      <td>0.500000</td>\n",
       "      <td>4 / 8</td>\n",
       "    </tr>\n",
       "    <tr>\n",
       "      <th>10</th>\n",
       "      <td>9.0</td>\n",
       "      <td>10.0</td>\n",
       "      <td>12.0</td>\n",
       "      <td>6.0</td>\n",
       "      <td>9.0</td>\n",
       "      <td>7.0</td>\n",
       "      <td>4.0</td>\n",
       "      <td>18.0</td>\n",
       "      <td>8.0</td>\n",
       "      <td>6.0</td>\n",
       "      <td>0.101124</td>\n",
       "      <td>9 / 89</td>\n",
       "    </tr>\n",
       "  </tbody>\n",
       "</table>\n",
       "</div>"
      ],
      "text/plain": [
       "    automotive  beauty  digital_electronics  kids  man  military  perfumes  \\\n",
       "0          8.0     0.0                  0.0   0.0  0.0       0.0       0.0   \n",
       "1          0.0     8.0                  0.0   0.0  1.0       0.0       0.0   \n",
       "2          0.0     0.0                 12.0   0.0  0.0       0.0       0.0   \n",
       "3          0.0     0.0                  0.0   5.0  0.0       0.0       0.0   \n",
       "4          0.0     0.0                  0.0   0.0  7.0       0.0       0.0   \n",
       "5          0.0     0.0                  0.0   0.0  0.0       7.0       0.0   \n",
       "6          0.0     0.0                  0.0   0.0  0.0       0.0       4.0   \n",
       "7          0.0     0.0                  0.0   0.0  0.0       0.0       0.0   \n",
       "8          1.0     0.0                  0.0   0.0  0.0       0.0       0.0   \n",
       "9          0.0     2.0                  0.0   1.0  1.0       0.0       0.0   \n",
       "10         9.0    10.0                 12.0   6.0  9.0       7.0       4.0   \n",
       "\n",
       "    shoes  sport  woman     Error    Rate  \n",
       "0     0.0    0.0    0.0  0.000000   0 / 8  \n",
       "1     0.0    0.0    1.0  0.200000  2 / 10  \n",
       "2     0.0    0.0    0.0  0.000000  0 / 12  \n",
       "3     0.0    1.0    1.0  0.285714   2 / 7  \n",
       "4     0.0    0.0    0.0  0.000000   0 / 7  \n",
       "5     0.0    0.0    0.0  0.000000   0 / 7  \n",
       "6     0.0    0.0    0.0  0.000000   0 / 4  \n",
       "7    18.0    0.0    0.0  0.000000  0 / 18  \n",
       "8     0.0    7.0    0.0  0.125000   1 / 8  \n",
       "9     0.0    0.0    4.0  0.500000   4 / 8  \n",
       "10   18.0    8.0    6.0  0.101124  9 / 89  "
      ]
     },
     "execution_count": 70,
     "metadata": {},
     "output_type": "execute_result"
    }
   ],
   "source": [
    "# confusion_matrix for test/train data\n",
    "gbm_model.confusion_matrix(test).as_data_frame()"
   ]
  },
  {
   "cell_type": "code",
   "execution_count": 71,
   "metadata": {},
   "outputs": [
    {
     "name": "stdout",
     "output_type": "stream",
     "text": [
      "R2 error: 0.9856332739746693\n",
      "MSE error: 0.1179525202768468\n",
      "1 - MSE error: 0.8820474797231532\n"
     ]
    }
   ],
   "source": [
    "# error for train data\n",
    "\n",
    "print(\"R2 error: {}\".format(gbm_model.r2()))\n",
    "print(\"MSE error: {}\".format(gbm_model.mse()))\n",
    "print(\"1 - MSE error: {}\".format(1- gbm_model.mse()))"
   ]
  },
  {
   "cell_type": "code",
   "execution_count": 72,
   "metadata": {},
   "outputs": [
    {
     "name": "stdout",
     "output_type": "stream",
     "text": [
      "R2 error: 0.9852740199235235\n",
      "MSE error: 0.12576853328792315\n",
      "1 - MSE error: 0.8742314667120769\n"
     ]
    }
   ],
   "source": [
    "# error for test data\n",
    "\n",
    "test_model = gbm_model.model_performance(test)\n",
    "print(\"R2 error: {}\".format(test_model.r2()))\n",
    "print(\"MSE error: {}\".format(test_model.mse()))\n",
    "print(\"1 - MSE error: {}\".format(1 - test_model.mse()))"
   ]
  },
  {
   "cell_type": "code",
   "execution_count": 73,
   "metadata": {},
   "outputs": [
    {
     "name": "stdout",
     "output_type": "stream",
     "text": [
      "drf prediction progress: |████████████████████████████████████████████████| 100%\n",
      "accuracy_score: 0.898876404494382\n"
     ]
    }
   ],
   "source": [
    "# accuracy score \n",
    "\n",
    "predictions = gbm_model.predict(test)[\"predict\"][:,0].as_data_frame()\n",
    "real = test[\"category\"][:,0].as_data_frame()\n",
    "print(\"accuracy_score: {}\".format(accuracy_score(real, predictions)))"
   ]
  },
  {
   "cell_type": "code",
   "execution_count": 74,
   "metadata": {
    "scrolled": true
   },
   "outputs": [
    {
     "name": "stdout",
     "output_type": "stream",
     "text": [
      "         variable  relative_importance  scaled_importance  percentage\n",
      "0         perfume           631.627747           1.000000    0.028990\n",
      "1           child           532.349976           0.842822    0.024434\n",
      "2             car           495.080292           0.783817    0.022723\n",
      "3            shoe           485.976715           0.769404    0.022305\n",
      "4            army           440.931091           0.698087    0.020238\n",
      "5            text           405.143738           0.641428    0.018595\n",
      "6             lip           400.372772           0.633875    0.018376\n",
      "7          sports           398.328766           0.630638    0.018282\n",
      "8         soldier           366.666168           0.580510    0.016829\n",
      "9            font           346.701752           0.548902    0.015913\n",
      "10       footwear           334.489624           0.529568    0.015352\n",
      "11         liquid           329.114746           0.521058    0.015106\n",
      "12       sneakers           317.648346           0.502904    0.014579\n",
      "13         bottle           287.286804           0.454836    0.013186\n",
      "14       military           266.671539           0.422197    0.012240\n",
      "15           hair           251.921890           0.398846    0.011563\n",
      "16     automotive           249.304474           0.394702    0.011442\n",
      "17         beauty           243.509720           0.385527    0.011176\n",
      "18           skin           241.273560           0.381987    0.011074\n",
      "19          sport           234.567398           0.371370    0.010766\n",
      "20       infantry           233.234497           0.369259    0.010705\n",
      "21            fun           231.732147           0.366881    0.010636\n",
      "22      cosmetics           217.963135           0.345082    0.010004\n",
      "23        outdoor           213.136765           0.337440    0.009782\n",
      "24        toddler           209.238770           0.331269    0.009604\n",
      "25        uniform           208.337051           0.329842    0.009562\n",
      "26   organization           207.692673           0.328821    0.009533\n",
      "27          fluid           199.076126           0.315180    0.009137\n",
      "28     camouflage           184.777206           0.292541    0.008481\n",
      "29        eyebrow           181.542847           0.287421    0.008332\n",
      "..            ...                  ...                ...         ...\n",
      "794    goalkeeper             0.000000           0.000000    0.000000\n",
      "795         grand             0.000000           0.000000    0.000000\n",
      "796     grassland             0.000000           0.000000    0.000000\n",
      "797    heptathlon             0.000000           0.000000    0.000000\n",
      "798         karma             0.000000           0.000000    0.000000\n",
      "799         khaki             0.000000           0.000000    0.000000\n",
      "800         medic             0.000000           0.000000    0.000000\n",
      "801      moisture             0.000000           0.000000    0.000000\n",
      "802         moves             0.000000           0.000000    0.000000\n",
      "803         panel             0.000000           0.000000    0.000000\n",
      "804         peony             0.000000           0.000000    0.000000\n",
      "805      position             0.000000           0.000000    0.000000\n",
      "806        python             0.000000           0.000000    0.000000\n",
      "807            r8             0.000000           0.000000    0.000000\n",
      "808   racquetball             0.000000           0.000000    0.000000\n",
      "809        saddle             0.000000           0.000000    0.000000\n",
      "810         shelf             0.000000           0.000000    0.000000\n",
      "811       shooter             0.000000           0.000000    0.000000\n",
      "812      sporting             0.000000           0.000000    0.000000\n",
      "813        squash             0.000000           0.000000    0.000000\n",
      "814         stick             0.000000           0.000000    0.000000\n",
      "815         stunt             0.000000           0.000000    0.000000\n",
      "816           suv             0.000000           0.000000    0.000000\n",
      "817          swat             0.000000           0.000000    0.000000\n",
      "818        tackle             0.000000           0.000000    0.000000\n",
      "819        target             0.000000           0.000000    0.000000\n",
      "820       traffic             0.000000           0.000000    0.000000\n",
      "821           v12             0.000000           0.000000    0.000000\n",
      "822        wicket             0.000000           0.000000    0.000000\n",
      "823        window             0.000000           0.000000    0.000000\n",
      "\n",
      "[824 rows x 4 columns]\n"
     ]
    }
   ],
   "source": [
    "#features importance\n",
    "\n",
    "var_data = gbm_model.varimp(use_pandas = True)\n",
    "print(var_data)"
   ]
  },
  {
   "cell_type": "markdown",
   "metadata": {},
   "source": [
    "## Do some feature engineering and selection here"
   ]
  },
  {
   "cell_type": "code",
   "execution_count": 85,
   "metadata": {},
   "outputs": [
    {
     "name": "stdout",
     "output_type": "stream",
     "text": [
      "Parse progress: |█████████████████████████████████████████████████████████| 100%\n",
      "Parse progress: |█████████████████████████████████████████████████████████| 100%\n",
      "drf Model Build progress: |███████████████████████████████████████████████| 100%\n",
      "drf prediction progress: |████████████████████████████████████████████████| 100%\n",
      "accuracy_score: 0.5955056179775281\n",
      "Parse progress: |█████████████████████████████████████████████████████████| 100%\n",
      "Parse progress: |█████████████████████████████████████████████████████████| 100%\n",
      "drf Model Build progress: |███████████████████████████████████████████████| 100%\n",
      "drf prediction progress: |████████████████████████████████████████████████| 100%\n",
      "accuracy_score: 0.6931818181818182\n",
      "Parse progress: |█████████████████████████████████████████████████████████| 100%\n",
      "Parse progress: |█████████████████████████████████████████████████████████| 100%\n",
      "drf Model Build progress: |███████████████████████████████████████████████| 100%\n",
      "drf prediction progress: |████████████████████████████████████████████████| 100%\n",
      "accuracy_score: 0.7840909090909091\n",
      "Parse progress: |█████████████████████████████████████████████████████████| 100%\n",
      "Parse progress: |█████████████████████████████████████████████████████████| 100%\n",
      "drf Model Build progress: |███████████████████████████████████████████████| 100%\n",
      "drf prediction progress: |████████████████████████████████████████████████| 100%\n",
      "accuracy_score: 0.8631578947368421\n",
      "Parse progress: |█████████████████████████████████████████████████████████| 100%\n",
      "Parse progress: |█████████████████████████████████████████████████████████| 100%\n",
      "drf Model Build progress: |███████████████████████████████████████████████| 100%\n",
      "drf prediction progress: |████████████████████████████████████████████████| 100%\n",
      "accuracy_score: 0.8673469387755102\n",
      "Parse progress: |█████████████████████████████████████████████████████████| 100%\n",
      "Parse progress: |█████████████████████████████████████████████████████████| 100%\n",
      "drf Model Build progress: |███████████████████████████████████████████████| 100%\n",
      "drf prediction progress: |████████████████████████████████████████████████| 100%\n",
      "accuracy_score: 0.9239130434782609\n",
      "Parse progress: |█████████████████████████████████████████████████████████| 100%\n",
      "Parse progress: |█████████████████████████████████████████████████████████| 100%\n",
      "drf Model Build progress: |███████████████████████████████████████████████| 100%\n",
      "drf prediction progress: |████████████████████████████████████████████████| 100%\n",
      "accuracy_score: 0.8723404255319149\n",
      "Parse progress: |█████████████████████████████████████████████████████████| 100%\n",
      "Parse progress: |█████████████████████████████████████████████████████████| 100%\n",
      "drf Model Build progress: |███████████████████████████████████████████████| 100%\n",
      "drf prediction progress: |████████████████████████████████████████████████| 100%\n",
      "accuracy_score: 0.8791208791208791\n",
      "Parse progress: |█████████████████████████████████████████████████████████| 100%\n",
      "Parse progress: |█████████████████████████████████████████████████████████| 100%\n",
      "drf Model Build progress: |███████████████████████████████████████████████| 100%\n",
      "drf prediction progress: |████████████████████████████████████████████████| 100%\n",
      "accuracy_score: 0.8571428571428571\n",
      "Parse progress: |█████████████████████████████████████████████████████████| 100%\n",
      "Parse progress: |█████████████████████████████████████████████████████████| 100%\n",
      "drf Model Build progress: |███████████████████████████████████████████████| 100%\n",
      "drf prediction progress: |████████████████████████████████████████████████| 100%\n",
      "accuracy_score: 0.8409090909090909\n",
      "Parse progress: |█████████████████████████████████████████████████████████| 100%\n",
      "Parse progress: |█████████████████████████████████████████████████████████| 100%\n",
      "drf Model Build progress: |███████████████████████████████████████████████| 100%\n",
      "drf prediction progress: |████████████████████████████████████████████████| 100%\n",
      "accuracy_score: 0.8936170212765957\n",
      "Parse progress: |█████████████████████████████████████████████████████████| 100%\n",
      "Parse progress: |█████████████████████████████████████████████████████████| 100%\n",
      "drf Model Build progress: |███████████████████████████████████████████████| 100%\n",
      "drf prediction progress: |████████████████████████████████████████████████| 100%\n",
      "accuracy_score: 0.9305555555555556\n",
      "Parse progress: |█████████████████████████████████████████████████████████| 100%\n",
      "Parse progress: |█████████████████████████████████████████████████████████| 100%\n",
      "drf Model Build progress: |███████████████████████████████████████████████| 100%\n",
      "drf prediction progress: |████████████████████████████████████████████████| 100%\n",
      "accuracy_score: 0.8850574712643678\n",
      "Parse progress: |█████████████████████████████████████████████████████████| 100%\n",
      "Parse progress: |█████████████████████████████████████████████████████████| 100%\n",
      "drf Model Build progress: |███████████████████████████████████████████████| 100%\n",
      "drf prediction progress: |████████████████████████████████████████████████| 100%\n",
      "accuracy_score: 0.8829787234042553\n",
      "Parse progress: |█████████████████████████████████████████████████████████| 100%\n",
      "Parse progress: |█████████████████████████████████████████████████████████| 100%\n",
      "drf Model Build progress: |███████████████████████████████████████████████| 100%\n",
      "drf prediction progress: |████████████████████████████████████████████████| 100%\n",
      "accuracy_score: 0.88\n",
      "Parse progress: |█████████████████████████████████████████████████████████| 100%\n",
      "Parse progress: |█████████████████████████████████████████████████████████| 100%\n",
      "drf Model Build progress: |███████████████████████████████████████████████| 100%\n",
      "drf prediction progress: |████████████████████████████████████████████████| 100%\n",
      "accuracy_score: 0.9090909090909091\n",
      "Parse progress: |█████████████████████████████████████████████████████████| 100%\n",
      "Parse progress: |█████████████████████████████████████████████████████████| 100%\n",
      "drf Model Build progress: |███████████████████████████████████████████████| 100%\n",
      "drf prediction progress: |████████████████████████████████████████████████| 100%\n",
      "accuracy_score: 0.8936170212765957\n",
      "Parse progress: |█████████████████████████████████████████████████████████| 100%\n",
      "Parse progress: |█████████████████████████████████████████████████████████| 100%\n",
      "drf Model Build progress: |███████████████████████████████████████████████| 100%\n",
      "drf prediction progress: |████████████████████████████████████████████████| 100%\n",
      "accuracy_score: 0.87\n",
      "Parse progress: |█████████████████████████████████████████████████████████| 100%\n",
      "Parse progress: |█████████████████████████████████████████████████████████| 100%\n",
      "drf Model Build progress: |███████████████████████████████████████████████| 100%\n",
      "drf prediction progress: |████████████████████████████████████████████████| 100%\n",
      "accuracy_score: 0.8969072164948454\n"
     ]
    }
   ],
   "source": [
    "# delete not important features with Kbest\n",
    "from sklearn.feature_selection import SelectKBest\n",
    "from sklearn.feature_selection import chi2\n",
    "\n",
    "gbm_model = H2ORandomForestEstimator(distribution=\"multinomial\")\n",
    "\n",
    "X = data[data.col_names[:-1]].as_data_frame()  \n",
    "y = data[\"category\"].as_data_frame()    \n",
    "\n",
    "acc = []\n",
    "acc_score = 0\n",
    "\n",
    "for k in range(10,200,10):\n",
    "    selection = SelectKBest(score_func=chi2, k=k)\n",
    "    new_X = selection.fit(X,y).transform(X)\n",
    "    \n",
    "    new_data = h2o.H2OFrame.from_python(new_X).cbind(h2o.H2OFrame(y))\n",
    "    splits = new_data.split_frame([0.9])\n",
    "    \n",
    "    Ktrain = splits[0]\n",
    "    Ktest = splits[1]\n",
    "\n",
    "    Kpredictors = new_data.col_names[:-1]\n",
    "    Kresponse = \"category\"\n",
    "    \n",
    "    gbm_model.train(Kpredictors, Kresponse, training_frame=Ktrain)\n",
    "\n",
    "    predictions = gbm_model.predict(Ktest)[\"predict\"][:,0].as_data_frame()\n",
    "    real = Ktest[\"category\"][:,0].as_data_frame()\n",
    "    acc.append(accuracy_score(real, predictions))\n",
    "    if (accuracy_score(real, predictions) > acc_score):\n",
    "        new_new_data = new_data\n",
    "    print(\"accuracy_score: {}\".format(accuracy_score(real, predictions)))"
   ]
  },
  {
   "cell_type": "code",
   "execution_count": 86,
   "metadata": {},
   "outputs": [
    {
     "data": {
      "image/png": "[encoded data removed]",
      "text/plain": [
       "<Figure size 432x288 with 1 Axes>"
      ]
     },
     "metadata": {},
     "output_type": "display_data"
    }
   ],
   "source": [
    "plt.plot(list(range(10,200,10)), acc)\n",
    "plt.show()"
   ]
  },
  {
   "cell_type": "code",
   "execution_count": 87,
   "metadata": {},
   "outputs": [
    {
     "name": "stdout",
     "output_type": "stream",
     "text": [
      "Leave only 110 labels\n"
     ]
    }
   ],
   "source": [
    "data = new_new_data\n",
    "bestK = acc.index(max(acc))*10\n",
    "print(\"Leave only {} labels\".format(bestK))"
   ]
  },
  {
   "cell_type": "markdown",
   "metadata": {},
   "source": [
    "## Tune parameters of the model"
   ]
  },
  {
   "cell_type": "code",
   "execution_count": 93,
   "metadata": {
    "collapsed": true
   },
   "outputs": [],
   "source": [
    "# split data\n",
    "\n",
    "splits = data.split_frame([0.9], seed = 123)\n",
    "train = splits[0]\n",
    "test = splits[1]\n",
    "\n",
    "predictors = data.col_names[:-1]\n",
    "response = \"category\""
   ]
  },
  {
   "cell_type": "code",
   "execution_count": 89,
   "metadata": {},
   "outputs": [
    {
     "name": "stdout",
     "output_type": "stream",
     "text": [
      "gbm Grid Build progress: |█ (cancelled)\n"
     ]
    },
    {
     "ename": "H2OJobCancelled",
     "evalue": "Job<$03017f00000132d4ffffffff$_b05a1f5aecb73acab4c0d3d6093f4a50> was cancelled by the user.",
     "output_type": "error",
     "traceback": [
      "\u001b[1;31m---------------------------------------------------------------------------\u001b[0m",
      "\u001b[1;31mH2OJobCancelled\u001b[0m                           Traceback (most recent call last)",
      "\u001b[1;32m<ipython-input-89-0116bc0f8539>\u001b[0m in \u001b[0;36m<module>\u001b[1;34m()\u001b[0m\n\u001b[0;32m      5\u001b[0m grid = H2OGridSearch(gbm_grid, params,\n\u001b[0;32m      6\u001b[0m                          grid_id = 'depth_grid')\n\u001b[1;32m----> 7\u001b[1;33m \u001b[0mgrid\u001b[0m\u001b[1;33m.\u001b[0m\u001b[0mtrain\u001b[0m\u001b[1;33m(\u001b[0m\u001b[0mx\u001b[0m \u001b[1;33m=\u001b[0m \u001b[0mpredictors\u001b[0m\u001b[1;33m,\u001b[0m \u001b[0my\u001b[0m \u001b[1;33m=\u001b[0m \u001b[0mresponse\u001b[0m\u001b[1;33m,\u001b[0m \u001b[0mtraining_frame\u001b[0m \u001b[1;33m=\u001b[0m \u001b[0mtrain\u001b[0m\u001b[1;33m,\u001b[0m \u001b[0mvalidation_frame\u001b[0m \u001b[1;33m=\u001b[0m \u001b[0mtest\u001b[0m\u001b[1;33m)\u001b[0m\u001b[1;33m\u001b[0m\u001b[0m\n\u001b[0m",
      "\u001b[1;32mC:\\Users\\N1\\Anaconda3\\lib\\site-packages\\h2o\\grid\\grid_search.py\u001b[0m in \u001b[0;36mtrain\u001b[1;34m(self, x, y, training_frame, offset_column, fold_column, weights_column, validation_frame, **params)\u001b[0m\n\u001b[0;32m    207\u001b[0m         \u001b[0mx\u001b[0m \u001b[1;33m=\u001b[0m \u001b[0mlist\u001b[0m\u001b[1;33m(\u001b[0m\u001b[0mxset\u001b[0m\u001b[1;33m)\u001b[0m\u001b[1;33m\u001b[0m\u001b[0m\n\u001b[0;32m    208\u001b[0m         \u001b[0mparms\u001b[0m\u001b[1;33m[\u001b[0m\u001b[1;34m\"x\"\u001b[0m\u001b[1;33m]\u001b[0m \u001b[1;33m=\u001b[0m \u001b[0mx\u001b[0m\u001b[1;33m\u001b[0m\u001b[0m\n\u001b[1;32m--> 209\u001b[1;33m         \u001b[0mself\u001b[0m\u001b[1;33m.\u001b[0m\u001b[0mbuild_model\u001b[0m\u001b[1;33m(\u001b[0m\u001b[0mparms\u001b[0m\u001b[1;33m)\u001b[0m\u001b[1;33m\u001b[0m\u001b[0m\n\u001b[0m\u001b[0;32m    210\u001b[0m \u001b[1;33m\u001b[0m\u001b[0m\n\u001b[0;32m    211\u001b[0m \u001b[1;33m\u001b[0m\u001b[0m\n",
      "\u001b[1;32mC:\\Users\\N1\\Anaconda3\\lib\\site-packages\\h2o\\grid\\grid_search.py\u001b[0m in \u001b[0;36mbuild_model\u001b[1;34m(self, algo_params)\u001b[0m\n\u001b[0;32m    225\u001b[0m             \u001b[0my\u001b[0m \u001b[1;33m=\u001b[0m \u001b[0my\u001b[0m \u001b[1;32mif\u001b[0m \u001b[0my\u001b[0m \u001b[1;32min\u001b[0m \u001b[0mtraining_frame\u001b[0m\u001b[1;33m.\u001b[0m\u001b[0mnames\u001b[0m \u001b[1;32melse\u001b[0m \u001b[0mtraining_frame\u001b[0m\u001b[1;33m.\u001b[0m\u001b[0mnames\u001b[0m\u001b[1;33m[\u001b[0m\u001b[0my\u001b[0m\u001b[1;33m]\u001b[0m\u001b[1;33m\u001b[0m\u001b[0m\n\u001b[0;32m    226\u001b[0m             \u001b[0mself\u001b[0m\u001b[1;33m.\u001b[0m\u001b[0mmodel\u001b[0m\u001b[1;33m.\u001b[0m\u001b[0m_estimator_type\u001b[0m \u001b[1;33m=\u001b[0m \u001b[1;34m\"classifier\"\u001b[0m \u001b[1;32mif\u001b[0m \u001b[0mtraining_frame\u001b[0m\u001b[1;33m.\u001b[0m\u001b[0mtypes\u001b[0m\u001b[1;33m[\u001b[0m\u001b[0my\u001b[0m\u001b[1;33m]\u001b[0m \u001b[1;33m==\u001b[0m \u001b[1;34m\"enum\"\u001b[0m \u001b[1;32melse\u001b[0m \u001b[1;34m\"regressor\"\u001b[0m\u001b[1;33m\u001b[0m\u001b[0m\n\u001b[1;32m--> 227\u001b[1;33m         \u001b[0mself\u001b[0m\u001b[1;33m.\u001b[0m\u001b[0m_model_build\u001b[0m\u001b[1;33m(\u001b[0m\u001b[0mx\u001b[0m\u001b[1;33m,\u001b[0m \u001b[0my\u001b[0m\u001b[1;33m,\u001b[0m \u001b[0mtraining_frame\u001b[0m\u001b[1;33m,\u001b[0m \u001b[0mvalidation_frame\u001b[0m\u001b[1;33m,\u001b[0m \u001b[0malgo_params\u001b[0m\u001b[1;33m)\u001b[0m\u001b[1;33m\u001b[0m\u001b[0m\n\u001b[0m\u001b[0;32m    228\u001b[0m \u001b[1;33m\u001b[0m\u001b[0m\n\u001b[0;32m    229\u001b[0m \u001b[1;33m\u001b[0m\u001b[0m\n",
      "\u001b[1;32mC:\\Users\\N1\\Anaconda3\\lib\\site-packages\\h2o\\grid\\grid_search.py\u001b[0m in \u001b[0;36m_model_build\u001b[1;34m(self, x, y, tframe, vframe, kwargs)\u001b[0m\n\u001b[0;32m    253\u001b[0m             \u001b[1;32mreturn\u001b[0m\u001b[1;33m\u001b[0m\u001b[0m\n\u001b[0;32m    254\u001b[0m \u001b[1;33m\u001b[0m\u001b[0m\n\u001b[1;32m--> 255\u001b[1;33m         \u001b[0mgrid\u001b[0m\u001b[1;33m.\u001b[0m\u001b[0mpoll\u001b[0m\u001b[1;33m(\u001b[0m\u001b[1;33m)\u001b[0m\u001b[1;33m\u001b[0m\u001b[0m\n\u001b[0m\u001b[0;32m    256\u001b[0m \u001b[1;33m\u001b[0m\u001b[0m\n\u001b[0;32m    257\u001b[0m         \u001b[0mgrid_json\u001b[0m \u001b[1;33m=\u001b[0m \u001b[0mh2o\u001b[0m\u001b[1;33m.\u001b[0m\u001b[0mapi\u001b[0m\u001b[1;33m(\u001b[0m\u001b[1;34m\"GET /99/Grids/%s\"\u001b[0m \u001b[1;33m%\u001b[0m \u001b[1;33m(\u001b[0m\u001b[0mgrid\u001b[0m\u001b[1;33m.\u001b[0m\u001b[0mdest_key\u001b[0m\u001b[1;33m)\u001b[0m\u001b[1;33m)\u001b[0m\u001b[1;33m\u001b[0m\u001b[0m\n",
      "\u001b[1;32mC:\\Users\\N1\\Anaconda3\\lib\\site-packages\\h2o\\job.py\u001b[0m in \u001b[0;36mpoll\u001b[1;34m(self, verbose_model_scoring_history)\u001b[0m\n\u001b[0;32m     71\u001b[0m         \u001b[1;31m# check if failed... and politely print relevant message\u001b[0m\u001b[1;33m\u001b[0m\u001b[1;33m\u001b[0m\u001b[0m\n\u001b[0;32m     72\u001b[0m         \u001b[1;32mif\u001b[0m \u001b[0mself\u001b[0m\u001b[1;33m.\u001b[0m\u001b[0mstatus\u001b[0m \u001b[1;33m==\u001b[0m \u001b[1;34m\"CANCELLED\"\u001b[0m\u001b[1;33m:\u001b[0m\u001b[1;33m\u001b[0m\u001b[0m\n\u001b[1;32m---> 73\u001b[1;33m             \u001b[1;32mraise\u001b[0m \u001b[0mH2OJobCancelled\u001b[0m\u001b[1;33m(\u001b[0m\u001b[1;34m\"Job<%s> was cancelled by the user.\"\u001b[0m \u001b[1;33m%\u001b[0m \u001b[0mself\u001b[0m\u001b[1;33m.\u001b[0m\u001b[0mjob_key\u001b[0m\u001b[1;33m)\u001b[0m\u001b[1;33m\u001b[0m\u001b[0m\n\u001b[0m\u001b[0;32m     74\u001b[0m         \u001b[1;32mif\u001b[0m \u001b[0mself\u001b[0m\u001b[1;33m.\u001b[0m\u001b[0mstatus\u001b[0m \u001b[1;33m==\u001b[0m \u001b[1;34m\"FAILED\"\u001b[0m\u001b[1;33m:\u001b[0m\u001b[1;33m\u001b[0m\u001b[0m\n\u001b[0;32m     75\u001b[0m             \u001b[1;32mif\u001b[0m \u001b[1;33m(\u001b[0m\u001b[0misinstance\u001b[0m\u001b[1;33m(\u001b[0m\u001b[0mself\u001b[0m\u001b[1;33m.\u001b[0m\u001b[0mjob\u001b[0m\u001b[1;33m,\u001b[0m \u001b[0mdict\u001b[0m\u001b[1;33m)\u001b[0m\u001b[1;33m)\u001b[0m \u001b[1;32mand\u001b[0m \u001b[1;33m(\u001b[0m\u001b[1;34m\"stacktrace\"\u001b[0m \u001b[1;32min\u001b[0m \u001b[0mlist\u001b[0m\u001b[1;33m(\u001b[0m\u001b[0mself\u001b[0m\u001b[1;33m.\u001b[0m\u001b[0mjob\u001b[0m\u001b[1;33m)\u001b[0m\u001b[1;33m)\u001b[0m\u001b[1;33m:\u001b[0m\u001b[1;33m\u001b[0m\u001b[0m\n",
      "\u001b[1;31mH2OJobCancelled\u001b[0m: Job<$03017f00000132d4ffffffff$_b05a1f5aecb73acab4c0d3d6093f4a50> was cancelled by the user."
     ]
    }
   ],
   "source": [
    "from h2o.grid.grid_search import H2OGridSearch\n",
    "\n",
    "params = {'max_depth' : list(range(1,30,2))}\n",
    "gbm_grid = H2OGradientBoostingEstimator(ntrees = 1000, learn_rate=0.05, seed = 123)\n",
    "grid = H2OGridSearch(gbm_grid, params,\n",
    "                         grid_id = 'depth_grid')\n",
    "grid.train(x = predictors, y = response, training_frame = train, validation_frame = test)"
   ]
  },
  {
   "cell_type": "code",
   "execution_count": null,
   "metadata": {},
   "outputs": [],
   "source": [
    "grid.get_grid(sort_by = 'mse')"
   ]
  },
  {
   "cell_type": "code",
   "execution_count": 94,
   "metadata": {},
   "outputs": [
    {
     "name": "stdout",
     "output_type": "stream",
     "text": [
      "drf Model Build progress: |███████████████████████████████████████████████| 100%\n"
     ]
    }
   ],
   "source": [
    "gbm_model = H2ORandomForestEstimator(distribution=\"multinomial\")#, ntrees = 1000, learn_rate = 0.05, max_depth = 21)\n",
    "gbm_model.train(x = predictors, y = response, training_frame = train)"
   ]
  },
  {
   "cell_type": "code",
   "execution_count": 95,
   "metadata": {},
   "outputs": [
    {
     "name": "stdout",
     "output_type": "stream",
     "text": [
      "R2 error: 0.9784511902944037\n",
      "MSE error: 0.16722762058712845\n",
      "1 - MSE error: 0.8327723794128715\n",
      "drf prediction progress: |████████████████████████████████████████████████| 100%\n",
      "accuracy_score: 0.8372093023255814\n"
     ]
    }
   ],
   "source": [
    "# error for test data\n",
    "\n",
    "test_model = gbm_model.model_performance(test)\n",
    "print(\"R2 error: {}\".format(test_model.r2()))\n",
    "print(\"MSE error: {}\".format(test_model.mse()))\n",
    "print(\"1 - MSE error: {}\".format(1 - test_model.mse()))\n",
    "\n",
    "# accuracy score \n",
    "\n",
    "predictions = gbm_model.predict(test)[\"predict\"][:,0].as_data_frame() #0.8488372093023255\n",
    "real = test[\"category\"][:,0].as_data_frame()\n",
    "print(\"accuracy_score: {}\".format(accuracy_score(real, predictions)))  "
   ]
  },
  {
   "cell_type": "code",
   "execution_count": 151,
   "metadata": {},
   "outputs": [
    {
     "data": {
      "text/html": [
       "<div>\n",
       "<style>\n",
       "    .dataframe thead tr:only-child th {\n",
       "        text-align: right;\n",
       "    }\n",
       "\n",
       "    .dataframe thead th {\n",
       "        text-align: left;\n",
       "    }\n",
       "\n",
       "    .dataframe tbody tr th {\n",
       "        vertical-align: top;\n",
       "    }\n",
       "</style>\n",
       "<table border=\"1\" class=\"dataframe\">\n",
       "  <thead>\n",
       "    <tr style=\"text-align: right;\">\n",
       "      <th></th>\n",
       "      <th></th>\n",
       "      <th>number_of_trees</th>\n",
       "      <th>number_of_internal_trees</th>\n",
       "      <th>model_size_in_bytes</th>\n",
       "      <th>min_depth</th>\n",
       "      <th>max_depth</th>\n",
       "      <th>mean_depth</th>\n",
       "      <th>min_leaves</th>\n",
       "      <th>max_leaves</th>\n",
       "      <th>mean_leaves</th>\n",
       "    </tr>\n",
       "  </thead>\n",
       "  <tbody>\n",
       "    <tr>\n",
       "      <th>0</th>\n",
       "      <td></td>\n",
       "      <td>1000.0</td>\n",
       "      <td>10000.0</td>\n",
       "      <td>2470780.0</td>\n",
       "      <td>0.0</td>\n",
       "      <td>21.0</td>\n",
       "      <td>4.8133</td>\n",
       "      <td>1.0</td>\n",
       "      <td>98.0</td>\n",
       "      <td>14.4561</td>\n",
       "    </tr>\n",
       "  </tbody>\n",
       "</table>\n",
       "</div>"
      ],
      "text/plain": [
       "     number_of_trees  number_of_internal_trees  model_size_in_bytes  \\\n",
       "0             1000.0                   10000.0            2470780.0   \n",
       "\n",
       "   min_depth  max_depth  mean_depth  min_leaves  max_leaves  mean_leaves  \n",
       "0        0.0       21.0      4.8133         1.0        98.0      14.4561  "
      ]
     },
     "execution_count": 151,
     "metadata": {},
     "output_type": "execute_result"
    }
   ],
   "source": [
    "gbm_model.summary().as_data_frame()"
   ]
  },
  {
   "cell_type": "code",
   "execution_count": 344,
   "metadata": {},
   "outputs": [
    {
     "name": "stdout",
     "output_type": "stream",
     "text": [
      "Model Details\n",
      "=============\n",
      "H2OGradientBoostingEstimator :  Gradient Boosting Machine\n",
      "Model Key:  GBM_model_python_1557579225396_81\n",
      "\n",
      "\n",
      "ModelMetricsMultinomial: gbm\n",
      "** Reported on train data. **\n",
      "\n",
      "MSE: 0.06095154977396666\n",
      "RMSE: 0.24688367660492797\n",
      "LogLoss: 0.19551969028083852\n",
      "Mean Per-Class Error: 0.06482725036957851\n",
      "Confusion Matrix: Row labels: Actual class; Column labels: Predicted class\n",
      "\n"
     ]
    },
    {
     "data": {
      "text/html": [
       "<div style=\"overflow:auto\"><table style=\"width:50%\"><tr><td><b>automotive</b></td>\n",
       "<td><b>beauty</b></td>\n",
       "<td><b>digital_electronics</b></td>\n",
       "<td><b>kids</b></td>\n",
       "<td><b>man</b></td>\n",
       "<td><b>military</b></td>\n",
       "<td><b>perfumes</b></td>\n",
       "<td><b>shoes</b></td>\n",
       "<td><b>sport</b></td>\n",
       "<td><b>woman</b></td>\n",
       "<td><b>Error</b></td>\n",
       "<td><b>Rate</b></td></tr>\n",
       "<tr><td>80.0</td>\n",
       "<td>0.0</td>\n",
       "<td>0.0</td>\n",
       "<td>0.0</td>\n",
       "<td>3.0</td>\n",
       "<td>0.0</td>\n",
       "<td>0.0</td>\n",
       "<td>0.0</td>\n",
       "<td>0.0</td>\n",
       "<td>0.0</td>\n",
       "<td>0.0361446</td>\n",
       "<td>3 / 83</td></tr>\n",
       "<tr><td>0.0</td>\n",
       "<td>73.0</td>\n",
       "<td>0.0</td>\n",
       "<td>0.0</td>\n",
       "<td>1.0</td>\n",
       "<td>0.0</td>\n",
       "<td>0.0</td>\n",
       "<td>0.0</td>\n",
       "<td>0.0</td>\n",
       "<td>7.0</td>\n",
       "<td>0.0987654</td>\n",
       "<td>8 / 81</td></tr>\n",
       "<tr><td>1.0</td>\n",
       "<td>0.0</td>\n",
       "<td>80.0</td>\n",
       "<td>0.0</td>\n",
       "<td>1.0</td>\n",
       "<td>0.0</td>\n",
       "<td>0.0</td>\n",
       "<td>0.0</td>\n",
       "<td>0.0</td>\n",
       "<td>0.0</td>\n",
       "<td>0.0243902</td>\n",
       "<td>2 / 82</td></tr>\n",
       "<tr><td>0.0</td>\n",
       "<td>0.0</td>\n",
       "<td>1.0</td>\n",
       "<td>79.0</td>\n",
       "<td>2.0</td>\n",
       "<td>0.0</td>\n",
       "<td>0.0</td>\n",
       "<td>0.0</td>\n",
       "<td>0.0</td>\n",
       "<td>1.0</td>\n",
       "<td>0.0481928</td>\n",
       "<td>4 / 83</td></tr>\n",
       "<tr><td>1.0</td>\n",
       "<td>1.0</td>\n",
       "<td>0.0</td>\n",
       "<td>0.0</td>\n",
       "<td>75.0</td>\n",
       "<td>0.0</td>\n",
       "<td>0.0</td>\n",
       "<td>0.0</td>\n",
       "<td>0.0</td>\n",
       "<td>1.0</td>\n",
       "<td>0.0384615</td>\n",
       "<td>3 / 78</td></tr>\n",
       "<tr><td>0.0</td>\n",
       "<td>0.0</td>\n",
       "<td>0.0</td>\n",
       "<td>1.0</td>\n",
       "<td>2.0</td>\n",
       "<td>80.0</td>\n",
       "<td>0.0</td>\n",
       "<td>0.0</td>\n",
       "<td>0.0</td>\n",
       "<td>0.0</td>\n",
       "<td>0.0361446</td>\n",
       "<td>3 / 83</td></tr>\n",
       "<tr><td>0.0</td>\n",
       "<td>0.0</td>\n",
       "<td>0.0</td>\n",
       "<td>0.0</td>\n",
       "<td>0.0</td>\n",
       "<td>0.0</td>\n",
       "<td>85.0</td>\n",
       "<td>1.0</td>\n",
       "<td>0.0</td>\n",
       "<td>0.0</td>\n",
       "<td>0.0116279</td>\n",
       "<td>1 / 86</td></tr>\n",
       "<tr><td>0.0</td>\n",
       "<td>0.0</td>\n",
       "<td>0.0</td>\n",
       "<td>0.0</td>\n",
       "<td>0.0</td>\n",
       "<td>0.0</td>\n",
       "<td>0.0</td>\n",
       "<td>87.0</td>\n",
       "<td>0.0</td>\n",
       "<td>0.0</td>\n",
       "<td>0.0</td>\n",
       "<td>0 / 87</td></tr>\n",
       "<tr><td>0.0</td>\n",
       "<td>0.0</td>\n",
       "<td>2.0</td>\n",
       "<td>0.0</td>\n",
       "<td>5.0</td>\n",
       "<td>0.0</td>\n",
       "<td>0.0</td>\n",
       "<td>0.0</td>\n",
       "<td>81.0</td>\n",
       "<td>0.0</td>\n",
       "<td>0.0795455</td>\n",
       "<td>7 / 88</td></tr>\n",
       "<tr><td>0.0</td>\n",
       "<td>9.0</td>\n",
       "<td>0.0</td>\n",
       "<td>1.0</td>\n",
       "<td>11.0</td>\n",
       "<td>0.0</td>\n",
       "<td>0.0</td>\n",
       "<td>0.0</td>\n",
       "<td>1.0</td>\n",
       "<td>58.0</td>\n",
       "<td>0.275</td>\n",
       "<td>22 / 80</td></tr>\n",
       "<tr><td>82.0</td>\n",
       "<td>83.0</td>\n",
       "<td>83.0</td>\n",
       "<td>81.0</td>\n",
       "<td>100.0</td>\n",
       "<td>80.0</td>\n",
       "<td>85.0</td>\n",
       "<td>88.0</td>\n",
       "<td>82.0</td>\n",
       "<td>67.0</td>\n",
       "<td>0.0637786</td>\n",
       "<td>53 / 831</td></tr></table></div>"
      ],
      "text/plain": [
       "automotive    beauty    digital_electronics    kids    man    military    perfumes    shoes    sport    woman    Error      Rate\n",
       "------------  --------  ---------------------  ------  -----  ----------  ----------  -------  -------  -------  ---------  --------\n",
       "80            0         0                      0       3      0           0           0        0        0        0.0361446  3 / 83\n",
       "0             73        0                      0       1      0           0           0        0        7        0.0987654  8 / 81\n",
       "1             0         80                     0       1      0           0           0        0        0        0.0243902  2 / 82\n",
       "0             0         1                      79      2      0           0           0        0        1        0.0481928  4 / 83\n",
       "1             1         0                      0       75     0           0           0        0        1        0.0384615  3 / 78\n",
       "0             0         0                      1       2      80          0           0        0        0        0.0361446  3 / 83\n",
       "0             0         0                      0       0      0           85          1        0        0        0.0116279  1 / 86\n",
       "0             0         0                      0       0      0           0           87       0        0        0          0 / 87\n",
       "0             0         2                      0       5      0           0           0        81       0        0.0795455  7 / 88\n",
       "0             9         0                      1       11     0           0           0        1        58       0.275      22 / 80\n",
       "82            83        83                     81      100    80          85          88       82       67       0.0637786  53 / 831"
      ]
     },
     "metadata": {},
     "output_type": "display_data"
    },
    {
     "name": "stdout",
     "output_type": "stream",
     "text": [
      "Top-10 Hit Ratios: \n"
     ]
    },
    {
     "data": {
      "text/html": [
       "<div style=\"overflow:auto\"><table style=\"width:50%\"><tr><td><b>k</b></td>\n",
       "<td><b>hit_ratio</b></td></tr>\n",
       "<tr><td>1</td>\n",
       "<td>0.9362214</td></tr>\n",
       "<tr><td>2</td>\n",
       "<td>0.9783394</td></tr>\n",
       "<tr><td>3</td>\n",
       "<td>0.9879664</td></tr>\n",
       "<tr><td>4</td>\n",
       "<td>0.9927799</td></tr>\n",
       "<tr><td>5</td>\n",
       "<td>0.9951866</td></tr>\n",
       "<tr><td>6</td>\n",
       "<td>0.9975933</td></tr>\n",
       "<tr><td>7</td>\n",
       "<td>0.9987966</td></tr>\n",
       "<tr><td>8</td>\n",
       "<td>1.0</td></tr>\n",
       "<tr><td>9</td>\n",
       "<td>1.0</td></tr>\n",
       "<tr><td>10</td>\n",
       "<td>1.0</td></tr></table></div>"
      ],
      "text/plain": [
       "k    hit_ratio\n",
       "---  -----------\n",
       "1    0.936221\n",
       "2    0.978339\n",
       "3    0.987966\n",
       "4    0.99278\n",
       "5    0.995187\n",
       "6    0.997593\n",
       "7    0.998797\n",
       "8    1\n",
       "9    1\n",
       "10   1"
      ]
     },
     "metadata": {},
     "output_type": "display_data"
    },
    {
     "name": "stdout",
     "output_type": "stream",
     "text": [
      "Scoring History: \n"
     ]
    },
    {
     "data": {
      "text/html": [
       "<div style=\"overflow:auto\"><table style=\"width:50%\"><tr><td><b></b></td>\n",
       "<td><b>timestamp</b></td>\n",
       "<td><b>duration</b></td>\n",
       "<td><b>number_of_trees</b></td>\n",
       "<td><b>training_rmse</b></td>\n",
       "<td><b>training_logloss</b></td>\n",
       "<td><b>training_classification_error</b></td></tr>\n",
       "<tr><td></td>\n",
       "<td>2019-05-11 18:10:20</td>\n",
       "<td> 0.000 sec</td>\n",
       "<td>0.0</td>\n",
       "<td>0.9000000</td>\n",
       "<td>2.3025851</td>\n",
       "<td>0.9290012</td></tr>\n",
       "<tr><td></td>\n",
       "<td>2019-05-11 18:10:20</td>\n",
       "<td> 0.025 sec</td>\n",
       "<td>1.0</td>\n",
       "<td>0.8007330</td>\n",
       "<td>1.6388342</td>\n",
       "<td>0.1215403</td></tr>\n",
       "<tr><td></td>\n",
       "<td>2019-05-11 18:10:20</td>\n",
       "<td> 0.052 sec</td>\n",
       "<td>2.0</td>\n",
       "<td>0.7283501</td>\n",
       "<td>1.3446656</td>\n",
       "<td>0.1191336</td></tr>\n",
       "<tr><td></td>\n",
       "<td>2019-05-11 18:10:20</td>\n",
       "<td> 0.081 sec</td>\n",
       "<td>3.0</td>\n",
       "<td>0.6657557</td>\n",
       "<td>1.1455701</td>\n",
       "<td>0.1191336</td></tr>\n",
       "<tr><td></td>\n",
       "<td>2019-05-11 18:10:20</td>\n",
       "<td> 0.103 sec</td>\n",
       "<td>4.0</td>\n",
       "<td>0.6114200</td>\n",
       "<td>0.9981818</td>\n",
       "<td>0.1179302</td></tr>\n",
       "<tr><td>---</td>\n",
       "<td>---</td>\n",
       "<td>---</td>\n",
       "<td>---</td>\n",
       "<td>---</td>\n",
       "<td>---</td>\n",
       "<td>---</td></tr>\n",
       "<tr><td></td>\n",
       "<td>2019-05-11 18:10:22</td>\n",
       "<td> 1.739 sec</td>\n",
       "<td>46.0</td>\n",
       "<td>0.2519344</td>\n",
       "<td>0.2030390</td>\n",
       "<td>0.0661853</td></tr>\n",
       "<tr><td></td>\n",
       "<td>2019-05-11 18:10:22</td>\n",
       "<td> 1.777 sec</td>\n",
       "<td>47.0</td>\n",
       "<td>0.2505136</td>\n",
       "<td>0.2008982</td>\n",
       "<td>0.0661853</td></tr>\n",
       "<tr><td></td>\n",
       "<td>2019-05-11 18:10:22</td>\n",
       "<td> 1.822 sec</td>\n",
       "<td>48.0</td>\n",
       "<td>0.2494049</td>\n",
       "<td>0.1992726</td>\n",
       "<td>0.0661853</td></tr>\n",
       "<tr><td></td>\n",
       "<td>2019-05-11 18:10:22</td>\n",
       "<td> 1.878 sec</td>\n",
       "<td>49.0</td>\n",
       "<td>0.2479186</td>\n",
       "<td>0.1970388</td>\n",
       "<td>0.0649819</td></tr>\n",
       "<tr><td></td>\n",
       "<td>2019-05-11 18:10:22</td>\n",
       "<td> 1.926 sec</td>\n",
       "<td>50.0</td>\n",
       "<td>0.2468837</td>\n",
       "<td>0.1955197</td>\n",
       "<td>0.0637786</td></tr></table></div>"
      ],
      "text/plain": [
       "     timestamp            duration    number_of_trees    training_rmse        training_logloss     training_classification_error\n",
       "---  -------------------  ----------  -----------------  -------------------  -------------------  -------------------------------\n",
       "     2019-05-11 18:10:20  0.000 sec   0.0                0.8999999999999936   2.30258509299409     0.9290012033694344\n",
       "     2019-05-11 18:10:20  0.025 sec   1.0                0.8007330279104697   1.6388341965763988   0.12154031287605295\n",
       "     2019-05-11 18:10:20  0.052 sec   2.0                0.7283500826978334   1.344665617695146    0.11913357400722022\n",
       "     2019-05-11 18:10:20  0.081 sec   3.0                0.6657557394524534   1.1455701347609712   0.11913357400722022\n",
       "     2019-05-11 18:10:20  0.103 sec   4.0                0.6114199781200514   0.9981818222895655   0.11793020457280386\n",
       "---  ---                  ---         ---                ---                  ---                  ---\n",
       "     2019-05-11 18:10:22  1.739 sec   46.0               0.2519344065121437   0.2030390221862712   0.06618531889290012\n",
       "     2019-05-11 18:10:22  1.777 sec   47.0               0.25051357886226705  0.20089821742961703  0.06618531889290012\n",
       "     2019-05-11 18:10:22  1.822 sec   48.0               0.24940493738748232  0.19927257345140068  0.06618531889290012\n",
       "     2019-05-11 18:10:22  1.878 sec   49.0               0.2479185739241786   0.1970388049534011   0.06498194945848375\n",
       "     2019-05-11 18:10:22  1.926 sec   50.0               0.24688367660492797  0.19551969028083852  0.06377858002406739"
      ]
     },
     "metadata": {},
     "output_type": "display_data"
    },
    {
     "name": "stdout",
     "output_type": "stream",
     "text": [
      "\n",
      "See the whole table with table.as_data_frame()\n",
      "Variable Importances: \n"
     ]
    },
    {
     "data": {
      "text/html": [
       "<div style=\"overflow:auto\"><table style=\"width:50%\"><tr><td><b>variable</b></td>\n",
       "<td><b>relative_importance</b></td>\n",
       "<td><b>scaled_importance</b></td>\n",
       "<td><b>percentage</b></td></tr>\n",
       "<tr><td>shoe</td>\n",
       "<td>299.7927551</td>\n",
       "<td>1.0</td>\n",
       "<td>0.1165542</td></tr>\n",
       "<tr><td>perfume</td>\n",
       "<td>294.2826233</td>\n",
       "<td>0.9816202</td>\n",
       "<td>0.1144119</td></tr>\n",
       "<tr><td>military</td>\n",
       "<td>271.6054993</td>\n",
       "<td>0.9059775</td>\n",
       "<td>0.1055955</td></tr>\n",
       "<tr><td>child</td>\n",
       "<td>236.0577087</td>\n",
       "<td>0.7874030</td>\n",
       "<td>0.0917751</td></tr>\n",
       "<tr><td>sport</td>\n",
       "<td>218.8685760</td>\n",
       "<td>0.7300663</td>\n",
       "<td>0.0850923</td></tr>\n",
       "<tr><td>---</td>\n",
       "<td>---</td>\n",
       "<td>---</td>\n",
       "<td>---</td></tr>\n",
       "<tr><td>athletic</td>\n",
       "<td>0.0018642</td>\n",
       "<td>0.0000062</td>\n",
       "<td>0.0000007</td></tr>\n",
       "<tr><td>infantry</td>\n",
       "<td>0.0001167</td>\n",
       "<td>0.0000004</td>\n",
       "<td>0.0000000</td></tr>\n",
       "<tr><td>camouflage</td>\n",
       "<td>0.0000004</td>\n",
       "<td>0.0000000</td>\n",
       "<td>0.0000000</td></tr>\n",
       "<tr><td>circuit</td>\n",
       "<td>0.0</td>\n",
       "<td>0.0</td>\n",
       "<td>0.0</td></tr>\n",
       "<tr><td>property</td>\n",
       "<td>0.0</td>\n",
       "<td>0.0</td>\n",
       "<td>0.0</td></tr></table></div>"
      ],
      "text/plain": [
       "variable    relative_importance     scaled_importance       percentage\n",
       "----------  ----------------------  ----------------------  ----------------------\n",
       "shoe        299.7927551269531       1.0                     0.11655417963786045\n",
       "perfume     294.2826232910156       0.981620196813615       0.11441193675556602\n",
       "military    271.6054992675781       0.9059775282179899      0.10559546757178438\n",
       "child       236.05770874023438      0.7874029799028035      0.09177510836697798\n",
       "sport       218.8685760498047       0.7300662617984898      0.08509227422520242\n",
       "---         ---                     ---                     ---\n",
       "athletic    0.0018642182694748044   6.218356640024088e-06   7.247754568736498e-07\n",
       "infantry    0.0001167209557024762   3.893388139184632e-07   4.537906605744408e-08\n",
       "camouflage  3.8537388036274933e-07  1.2854676231236983e-09  1.4982662426421302e-10\n",
       "circuit     0.0                     0.0                     0.0\n",
       "property    0.0                     0.0                     0.0"
      ]
     },
     "metadata": {},
     "output_type": "display_data"
    },
    {
     "name": "stdout",
     "output_type": "stream",
     "text": [
      "\n",
      "See the whole table with table.as_data_frame()\n"
     ]
    },
    {
     "data": {
      "text/plain": []
     },
     "execution_count": 344,
     "metadata": {},
     "output_type": "execute_result"
    }
   ],
   "source": [
    "gbm_model"
   ]
  },
  {
   "cell_type": "code",
   "execution_count": 343,
   "metadata": {},
   "outputs": [
    {
     "data": {
      "text/plain": [
       "(916, 71)"
      ]
     },
     "execution_count": 343,
     "metadata": {},
     "output_type": "execute_result"
    }
   ],
   "source": [
    "data.shape"
   ]
  },
  {
   "cell_type": "code",
   "execution_count": null,
   "metadata": {
    "collapsed": true
   },
   "outputs": [],
   "source": []
  }
 ],
 "metadata": {
  "kernelspec": {
   "display_name": "Python 3",
   "language": "python",
   "name": "python3"
  },
  "language_info": {
   "codemirror_mode": {
    "name": "ipython",
    "version": 3
   },
   "file_extension": ".py",
   "mimetype": "text/x-python",
   "name": "python",
   "nbconvert_exporter": "python",
   "pygments_lexer": "ipython3",
   "version": "3.6.6"
  }
 },
 "nbformat": 4,
 "nbformat_minor": 2
}
